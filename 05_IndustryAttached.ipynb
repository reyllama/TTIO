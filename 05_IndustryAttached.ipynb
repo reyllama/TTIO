{
  "nbformat": 4,
  "nbformat_minor": 0,
  "metadata": {
    "colab": {
      "name": "05_IndustryAttached.ipynb",
      "provenance": [],
      "authorship_tag": "ABX9TyO0+RN2WWuN8mgYe4b/Sued",
      "include_colab_link": true
    },
    "kernelspec": {
      "name": "python3",
      "display_name": "Python 3"
    }
  },
  "cells": [
    {
      "cell_type": "markdown",
      "metadata": {
        "id": "view-in-github",
        "colab_type": "text"
      },
      "source": [
        "<a href=\"https://colab.research.google.com/github/reyllama/TTIO/blob/master/05_IndustryAttached.ipynb\" target=\"_parent\"><img src=\"https://colab.research.google.com/assets/colab-badge.svg\" alt=\"Open In Colab\"/></a>"
      ]
    },
    {
      "cell_type": "code",
      "metadata": {
        "id": "XEcsEDxaqUsQ",
        "colab_type": "code",
        "colab": {
          "base_uri": "https://localhost:8080/",
          "height": 127
        },
        "outputId": "56cb4e75-388d-4aea-ad02-a0fffc60d1c6"
      },
      "source": [
        "import pandas as pd\n",
        "import numpy as np\n",
        "import torch\n",
        "from torch import nn, optim\n",
        "from torch.autograd import Variable\n",
        "from google.colab import drive\n",
        "drive.mount('/content/drive')"
      ],
      "execution_count": 1,
      "outputs": [
        {
          "output_type": "stream",
          "text": [
            "Go to this URL in a browser: https://accounts.google.com/o/oauth2/auth?client_id=947318989803-6bn6qk8qdgf4n4g3pfee6491hc0brc4i.apps.googleusercontent.com&redirect_uri=urn%3aietf%3awg%3aoauth%3a2.0%3aoob&response_type=code&scope=email%20https%3a%2f%2fwww.googleapis.com%2fauth%2fdocs.test%20https%3a%2f%2fwww.googleapis.com%2fauth%2fdrive%20https%3a%2f%2fwww.googleapis.com%2fauth%2fdrive.photos.readonly%20https%3a%2f%2fwww.googleapis.com%2fauth%2fpeopleapi.readonly\n",
            "\n",
            "Enter your authorization code:\n",
            "··········\n",
            "Mounted at /content/drive\n"
          ],
          "name": "stdout"
        }
      ]
    },
    {
      "cell_type": "code",
      "metadata": {
        "id": "OEgJtLFZqcE2",
        "colab_type": "code",
        "colab": {
          "base_uri": "https://localhost:8080/",
          "height": 204
        },
        "outputId": "d96ddbd0-c2a5-47b6-d9c2-5610bb8789c9"
      },
      "source": [
        "code_df = pd.read_html('http://kind.krx.co.kr/corpgeneral/corpList.do?method=download&searchType=13', header=0)[0]\n",
        "code_df.head()"
      ],
      "execution_count": 22,
      "outputs": [
        {
          "output_type": "execute_result",
          "data": {
            "text/html": [
              "<div>\n",
              "<style scoped>\n",
              "    .dataframe tbody tr th:only-of-type {\n",
              "        vertical-align: middle;\n",
              "    }\n",
              "\n",
              "    .dataframe tbody tr th {\n",
              "        vertical-align: top;\n",
              "    }\n",
              "\n",
              "    .dataframe thead th {\n",
              "        text-align: right;\n",
              "    }\n",
              "</style>\n",
              "<table border=\"1\" class=\"dataframe\">\n",
              "  <thead>\n",
              "    <tr style=\"text-align: right;\">\n",
              "      <th></th>\n",
              "      <th>회사명</th>\n",
              "      <th>종목코드</th>\n",
              "      <th>업종</th>\n",
              "      <th>주요제품</th>\n",
              "      <th>상장일</th>\n",
              "      <th>결산월</th>\n",
              "      <th>대표자명</th>\n",
              "      <th>홈페이지</th>\n",
              "      <th>지역</th>\n",
              "    </tr>\n",
              "  </thead>\n",
              "  <tbody>\n",
              "    <tr>\n",
              "      <th>0</th>\n",
              "      <td>DSR</td>\n",
              "      <td>155660</td>\n",
              "      <td>1차 비철금속 제조업</td>\n",
              "      <td>합섬섬유로프</td>\n",
              "      <td>2013-05-15</td>\n",
              "      <td>12월</td>\n",
              "      <td>홍석빈</td>\n",
              "      <td>http://www.dsr.com</td>\n",
              "      <td>부산광역시</td>\n",
              "    </tr>\n",
              "    <tr>\n",
              "      <th>1</th>\n",
              "      <td>GS</td>\n",
              "      <td>78930</td>\n",
              "      <td>기타 금융업</td>\n",
              "      <td>지주회사/부동산 임대</td>\n",
              "      <td>2004-08-05</td>\n",
              "      <td>12월</td>\n",
              "      <td>허태수, 홍순기 (각자 대표이사)</td>\n",
              "      <td>NaN</td>\n",
              "      <td>서울특별시</td>\n",
              "    </tr>\n",
              "    <tr>\n",
              "      <th>2</th>\n",
              "      <td>GS글로벌</td>\n",
              "      <td>1250</td>\n",
              "      <td>상품 종합 도매업</td>\n",
              "      <td>수출입업(시멘트,철강금속,전기전자,섬유,기계화학),상품중개,광업,채석업/하수처리 서...</td>\n",
              "      <td>1976-06-26</td>\n",
              "      <td>12월</td>\n",
              "      <td>김태형</td>\n",
              "      <td>http://www.gsgcorp.com</td>\n",
              "      <td>서울특별시</td>\n",
              "    </tr>\n",
              "    <tr>\n",
              "      <th>3</th>\n",
              "      <td>HDC현대산업개발</td>\n",
              "      <td>294870</td>\n",
              "      <td>건물 건설업</td>\n",
              "      <td>외주주택, 자체공사, 일반건축, 토목 등</td>\n",
              "      <td>2018-06-12</td>\n",
              "      <td>12월</td>\n",
              "      <td>권순호, 정경구</td>\n",
              "      <td>http://www.hdc-dvp.com</td>\n",
              "      <td>서울특별시</td>\n",
              "    </tr>\n",
              "    <tr>\n",
              "      <th>4</th>\n",
              "      <td>LG이노텍</td>\n",
              "      <td>11070</td>\n",
              "      <td>전자부품 제조업</td>\n",
              "      <td>기타 전자부품 제조업</td>\n",
              "      <td>2008-07-24</td>\n",
              "      <td>12월</td>\n",
              "      <td>정철동</td>\n",
              "      <td>http://www.lginnotek.co.kr</td>\n",
              "      <td>서울특별시</td>\n",
              "    </tr>\n",
              "  </tbody>\n",
              "</table>\n",
              "</div>"
            ],
            "text/plain": [
              "         회사명    종목코드  ...                        홈페이지     지역\n",
              "0        DSR  155660  ...          http://www.dsr.com  부산광역시\n",
              "1         GS   78930  ...                         NaN  서울특별시\n",
              "2      GS글로벌    1250  ...      http://www.gsgcorp.com  서울특별시\n",
              "3  HDC현대산업개발  294870  ...      http://www.hdc-dvp.com  서울특별시\n",
              "4      LG이노텍   11070  ...  http://www.lginnotek.co.kr  서울특별시\n",
              "\n",
              "[5 rows x 9 columns]"
            ]
          },
          "metadata": {
            "tags": []
          },
          "execution_count": 22
        }
      ]
    },
    {
      "cell_type": "code",
      "metadata": {
        "id": "aefIZTCCqkPk",
        "colab_type": "code",
        "colab": {
          "base_uri": "https://localhost:8080/",
          "height": 204
        },
        "outputId": "997fb634-b00b-4828-ab92-7a46bb85bc17"
      },
      "source": [
        "core_df = code_df[['회사명', '종목코드', '업종']].rename(columns={'회사명': 'name', '종목코드':'stock_id', '업종': 'industry'})\n",
        "core_df.head()"
      ],
      "execution_count": 23,
      "outputs": [
        {
          "output_type": "execute_result",
          "data": {
            "text/html": [
              "<div>\n",
              "<style scoped>\n",
              "    .dataframe tbody tr th:only-of-type {\n",
              "        vertical-align: middle;\n",
              "    }\n",
              "\n",
              "    .dataframe tbody tr th {\n",
              "        vertical-align: top;\n",
              "    }\n",
              "\n",
              "    .dataframe thead th {\n",
              "        text-align: right;\n",
              "    }\n",
              "</style>\n",
              "<table border=\"1\" class=\"dataframe\">\n",
              "  <thead>\n",
              "    <tr style=\"text-align: right;\">\n",
              "      <th></th>\n",
              "      <th>name</th>\n",
              "      <th>stock_id</th>\n",
              "      <th>industry</th>\n",
              "    </tr>\n",
              "  </thead>\n",
              "  <tbody>\n",
              "    <tr>\n",
              "      <th>0</th>\n",
              "      <td>DSR</td>\n",
              "      <td>155660</td>\n",
              "      <td>1차 비철금속 제조업</td>\n",
              "    </tr>\n",
              "    <tr>\n",
              "      <th>1</th>\n",
              "      <td>GS</td>\n",
              "      <td>78930</td>\n",
              "      <td>기타 금융업</td>\n",
              "    </tr>\n",
              "    <tr>\n",
              "      <th>2</th>\n",
              "      <td>GS글로벌</td>\n",
              "      <td>1250</td>\n",
              "      <td>상품 종합 도매업</td>\n",
              "    </tr>\n",
              "    <tr>\n",
              "      <th>3</th>\n",
              "      <td>HDC현대산업개발</td>\n",
              "      <td>294870</td>\n",
              "      <td>건물 건설업</td>\n",
              "    </tr>\n",
              "    <tr>\n",
              "      <th>4</th>\n",
              "      <td>LG이노텍</td>\n",
              "      <td>11070</td>\n",
              "      <td>전자부품 제조업</td>\n",
              "    </tr>\n",
              "  </tbody>\n",
              "</table>\n",
              "</div>"
            ],
            "text/plain": [
              "        name  stock_id     industry\n",
              "0        DSR    155660  1차 비철금속 제조업\n",
              "1         GS     78930       기타 금융업\n",
              "2      GS글로벌      1250    상품 종합 도매업\n",
              "3  HDC현대산업개발    294870       건물 건설업\n",
              "4      LG이노텍     11070     전자부품 제조업"
            ]
          },
          "metadata": {
            "tags": []
          },
          "execution_count": 23
        }
      ]
    },
    {
      "cell_type": "code",
      "metadata": {
        "id": "Vuo_WE_8q6Us",
        "colab_type": "code",
        "colab": {
          "base_uri": "https://localhost:8080/",
          "height": 240
        },
        "outputId": "dc575c45-7153-4149-974e-51e19ef1a2f7"
      },
      "source": [
        "data = pd.read_csv(\"/content/drive/My Drive/stocks.csv\")\n",
        "data.head()"
      ],
      "execution_count": 24,
      "outputs": [
        {
          "output_type": "stream",
          "text": [
            "/usr/local/lib/python3.6/dist-packages/IPython/core/interactiveshell.py:2718: DtypeWarning: Columns (0,1) have mixed types.Specify dtype option on import or set low_memory=False.\n",
            "  interactivity=interactivity, compiler=compiler, result=result)\n"
          ],
          "name": "stderr"
        },
        {
          "output_type": "execute_result",
          "data": {
            "text/html": [
              "<div>\n",
              "<style scoped>\n",
              "    .dataframe tbody tr th:only-of-type {\n",
              "        vertical-align: middle;\n",
              "    }\n",
              "\n",
              "    .dataframe tbody tr th {\n",
              "        vertical-align: top;\n",
              "    }\n",
              "\n",
              "    .dataframe thead th {\n",
              "        text-align: right;\n",
              "    }\n",
              "</style>\n",
              "<table border=\"1\" class=\"dataframe\">\n",
              "  <thead>\n",
              "    <tr style=\"text-align: right;\">\n",
              "      <th></th>\n",
              "      <th>stock_id</th>\n",
              "      <th>name</th>\n",
              "      <th>date</th>\n",
              "      <th>opening_price</th>\n",
              "      <th>highest_price</th>\n",
              "      <th>lowest_price</th>\n",
              "      <th>closing_price</th>\n",
              "      <th>trading_volume</th>\n",
              "    </tr>\n",
              "  </thead>\n",
              "  <tbody>\n",
              "    <tr>\n",
              "      <th>0</th>\n",
              "      <td>000020</td>\n",
              "      <td>동화약품</td>\n",
              "      <td>2016-01-04</td>\n",
              "      <td>8130</td>\n",
              "      <td>8150</td>\n",
              "      <td>7920</td>\n",
              "      <td>8140</td>\n",
              "      <td>281440</td>\n",
              "    </tr>\n",
              "    <tr>\n",
              "      <th>1</th>\n",
              "      <td>000020</td>\n",
              "      <td>동화약품</td>\n",
              "      <td>2016-01-05</td>\n",
              "      <td>8040</td>\n",
              "      <td>8250</td>\n",
              "      <td>8000</td>\n",
              "      <td>8190</td>\n",
              "      <td>243179</td>\n",
              "    </tr>\n",
              "    <tr>\n",
              "      <th>2</th>\n",
              "      <td>000020</td>\n",
              "      <td>동화약품</td>\n",
              "      <td>2016-01-06</td>\n",
              "      <td>8200</td>\n",
              "      <td>8590</td>\n",
              "      <td>8110</td>\n",
              "      <td>8550</td>\n",
              "      <td>609906</td>\n",
              "    </tr>\n",
              "    <tr>\n",
              "      <th>3</th>\n",
              "      <td>000020</td>\n",
              "      <td>동화약품</td>\n",
              "      <td>2016-01-07</td>\n",
              "      <td>8470</td>\n",
              "      <td>8690</td>\n",
              "      <td>8190</td>\n",
              "      <td>8380</td>\n",
              "      <td>704752</td>\n",
              "    </tr>\n",
              "    <tr>\n",
              "      <th>4</th>\n",
              "      <td>000020</td>\n",
              "      <td>동화약품</td>\n",
              "      <td>2016-01-08</td>\n",
              "      <td>8210</td>\n",
              "      <td>8900</td>\n",
              "      <td>8130</td>\n",
              "      <td>8770</td>\n",
              "      <td>802330</td>\n",
              "    </tr>\n",
              "  </tbody>\n",
              "</table>\n",
              "</div>"
            ],
            "text/plain": [
              "  stock_id  name        date  ...  lowest_price  closing_price  trading_volume\n",
              "0   000020  동화약품  2016-01-04  ...          7920           8140          281440\n",
              "1   000020  동화약품  2016-01-05  ...          8000           8190          243179\n",
              "2   000020  동화약품  2016-01-06  ...          8110           8550          609906\n",
              "3   000020  동화약품  2016-01-07  ...          8190           8380          704752\n",
              "4   000020  동화약품  2016-01-08  ...          8130           8770          802330\n",
              "\n",
              "[5 rows x 8 columns]"
            ]
          },
          "metadata": {
            "tags": []
          },
          "execution_count": 24
        }
      ]
    },
    {
      "cell_type": "code",
      "metadata": {
        "id": "Nm4YdWBUrFv7",
        "colab_type": "code",
        "colab": {
          "base_uri": "https://localhost:8080/",
          "height": 204
        },
        "outputId": "784fad09-5b97-4f6d-d2b7-79f3faa369b4"
      },
      "source": [
        "core_df['stock_id'] = core_df['stock_id'].astype(str)\n",
        "data['stock_id'] = data['stock_id'].astype(str)\n",
        "\n",
        "core_df.head()"
      ],
      "execution_count": 25,
      "outputs": [
        {
          "output_type": "execute_result",
          "data": {
            "text/html": [
              "<div>\n",
              "<style scoped>\n",
              "    .dataframe tbody tr th:only-of-type {\n",
              "        vertical-align: middle;\n",
              "    }\n",
              "\n",
              "    .dataframe tbody tr th {\n",
              "        vertical-align: top;\n",
              "    }\n",
              "\n",
              "    .dataframe thead th {\n",
              "        text-align: right;\n",
              "    }\n",
              "</style>\n",
              "<table border=\"1\" class=\"dataframe\">\n",
              "  <thead>\n",
              "    <tr style=\"text-align: right;\">\n",
              "      <th></th>\n",
              "      <th>name</th>\n",
              "      <th>stock_id</th>\n",
              "      <th>industry</th>\n",
              "    </tr>\n",
              "  </thead>\n",
              "  <tbody>\n",
              "    <tr>\n",
              "      <th>0</th>\n",
              "      <td>DSR</td>\n",
              "      <td>155660</td>\n",
              "      <td>1차 비철금속 제조업</td>\n",
              "    </tr>\n",
              "    <tr>\n",
              "      <th>1</th>\n",
              "      <td>GS</td>\n",
              "      <td>78930</td>\n",
              "      <td>기타 금융업</td>\n",
              "    </tr>\n",
              "    <tr>\n",
              "      <th>2</th>\n",
              "      <td>GS글로벌</td>\n",
              "      <td>1250</td>\n",
              "      <td>상품 종합 도매업</td>\n",
              "    </tr>\n",
              "    <tr>\n",
              "      <th>3</th>\n",
              "      <td>HDC현대산업개발</td>\n",
              "      <td>294870</td>\n",
              "      <td>건물 건설업</td>\n",
              "    </tr>\n",
              "    <tr>\n",
              "      <th>4</th>\n",
              "      <td>LG이노텍</td>\n",
              "      <td>11070</td>\n",
              "      <td>전자부품 제조업</td>\n",
              "    </tr>\n",
              "  </tbody>\n",
              "</table>\n",
              "</div>"
            ],
            "text/plain": [
              "        name stock_id     industry\n",
              "0        DSR   155660  1차 비철금속 제조업\n",
              "1         GS    78930       기타 금융업\n",
              "2      GS글로벌     1250    상품 종합 도매업\n",
              "3  HDC현대산업개발   294870       건물 건설업\n",
              "4      LG이노텍    11070     전자부품 제조업"
            ]
          },
          "metadata": {
            "tags": []
          },
          "execution_count": 25
        }
      ]
    },
    {
      "cell_type": "code",
      "metadata": {
        "id": "77Q-nzVMth-P",
        "colab_type": "code",
        "colab": {}
      },
      "source": [
        ""
      ],
      "execution_count": null,
      "outputs": []
    },
    {
      "cell_type": "code",
      "metadata": {
        "id": "B0-1Zg9ht5m1",
        "colab_type": "code",
        "colab": {
          "base_uri": "https://localhost:8080/",
          "height": 89
        },
        "outputId": "1a69c45d-9b5b-40fd-e737-c3051c1a66a2"
      },
      "source": [
        "temp = data[data['name'].isna()].groupby('stock_id')['date'].count()==979\n",
        "temp[temp].index"
      ],
      "execution_count": 32,
      "outputs": [
        {
          "output_type": "execute_result",
          "data": {
            "text/plain": [
              "Index(['103130', '11160', '122800', '123260', '159650', '1799', '197210',\n",
              "       '27390', '30270', '54340', '77280', '83370', '83380', '900040',\n",
              "       '94190'],\n",
              "      dtype='object', name='stock_id')"
            ]
          },
          "metadata": {
            "tags": []
          },
          "execution_count": 32
        }
      ]
    },
    {
      "cell_type": "code",
      "metadata": {
        "id": "i89TlgEq4HO_",
        "colab_type": "code",
        "colab": {}
      },
      "source": [
        ""
      ],
      "execution_count": null,
      "outputs": []
    },
    {
      "cell_type": "code",
      "metadata": {
        "id": "sbz15fAI4HMN",
        "colab_type": "code",
        "colab": {}
      },
      "source": [
        ""
      ],
      "execution_count": null,
      "outputs": []
    },
    {
      "cell_type": "code",
      "metadata": {
        "id": "bhit6z-N3r69",
        "colab_type": "code",
        "colab": {
          "base_uri": "https://localhost:8080/",
          "height": 215
        },
        "outputId": "d71ff876-8354-4eb3-a119-2a5e5356aac9"
      },
      "source": [
        "total = data[data['stock_id']=='005930'].shape[0]\n",
        "t = data.groupby('stock_id')['date'].count()==total\n",
        "complete = t[t].index\n",
        "data = data[data['stock_id'].isin(complete)]\n",
        "data = data.dropna(subset=['name'])\n",
        "\n",
        "merged = data.merge(core_df, on='name', how='left')\n",
        "merged.isna().sum().sort_values()"
      ],
      "execution_count": 39,
      "outputs": [
        {
          "output_type": "execute_result",
          "data": {
            "text/plain": [
              "stock_id_x             0\n",
              "name                   0\n",
              "date                   0\n",
              "opening_price          0\n",
              "highest_price          0\n",
              "lowest_price           0\n",
              "closing_price          0\n",
              "trading_volume         0\n",
              "stock_id_y        162514\n",
              "industry          162514\n",
              "dtype: int64"
            ]
          },
          "metadata": {
            "tags": []
          },
          "execution_count": 39
        }
      ]
    },
    {
      "cell_type": "code",
      "metadata": {
        "id": "g1OujrG93rsV",
        "colab_type": "code",
        "colab": {
          "base_uri": "https://localhost:8080/",
          "height": 419
        },
        "outputId": "60169871-df72-42f4-b9c2-76a9be3c9053"
      },
      "source": [
        "merged[merged['industry'].isna()]"
      ],
      "execution_count": 41,
      "outputs": [
        {
          "output_type": "execute_result",
          "data": {
            "text/html": [
              "<div>\n",
              "<style scoped>\n",
              "    .dataframe tbody tr th:only-of-type {\n",
              "        vertical-align: middle;\n",
              "    }\n",
              "\n",
              "    .dataframe tbody tr th {\n",
              "        vertical-align: top;\n",
              "    }\n",
              "\n",
              "    .dataframe thead th {\n",
              "        text-align: right;\n",
              "    }\n",
              "</style>\n",
              "<table border=\"1\" class=\"dataframe\">\n",
              "  <thead>\n",
              "    <tr style=\"text-align: right;\">\n",
              "      <th></th>\n",
              "      <th>stock_id_x</th>\n",
              "      <th>name</th>\n",
              "      <th>date</th>\n",
              "      <th>opening_price</th>\n",
              "      <th>highest_price</th>\n",
              "      <th>lowest_price</th>\n",
              "      <th>closing_price</th>\n",
              "      <th>trading_volume</th>\n",
              "      <th>stock_id_y</th>\n",
              "      <th>industry</th>\n",
              "    </tr>\n",
              "  </thead>\n",
              "  <tbody>\n",
              "    <tr>\n",
              "      <th>4895</th>\n",
              "      <td>000075</td>\n",
              "      <td>삼양홀딩스우</td>\n",
              "      <td>2016-01-04</td>\n",
              "      <td>68700</td>\n",
              "      <td>69200</td>\n",
              "      <td>66200</td>\n",
              "      <td>68300</td>\n",
              "      <td>911</td>\n",
              "      <td>NaN</td>\n",
              "      <td>NaN</td>\n",
              "    </tr>\n",
              "    <tr>\n",
              "      <th>4896</th>\n",
              "      <td>000075</td>\n",
              "      <td>삼양홀딩스우</td>\n",
              "      <td>2016-01-05</td>\n",
              "      <td>68200</td>\n",
              "      <td>69400</td>\n",
              "      <td>67700</td>\n",
              "      <td>69400</td>\n",
              "      <td>452</td>\n",
              "      <td>NaN</td>\n",
              "      <td>NaN</td>\n",
              "    </tr>\n",
              "    <tr>\n",
              "      <th>4897</th>\n",
              "      <td>000075</td>\n",
              "      <td>삼양홀딩스우</td>\n",
              "      <td>2016-01-06</td>\n",
              "      <td>69100</td>\n",
              "      <td>72600</td>\n",
              "      <td>68800</td>\n",
              "      <td>72400</td>\n",
              "      <td>1792</td>\n",
              "      <td>NaN</td>\n",
              "      <td>NaN</td>\n",
              "    </tr>\n",
              "    <tr>\n",
              "      <th>4898</th>\n",
              "      <td>000075</td>\n",
              "      <td>삼양홀딩스우</td>\n",
              "      <td>2016-01-07</td>\n",
              "      <td>70600</td>\n",
              "      <td>72800</td>\n",
              "      <td>70600</td>\n",
              "      <td>72400</td>\n",
              "      <td>810</td>\n",
              "      <td>NaN</td>\n",
              "      <td>NaN</td>\n",
              "    </tr>\n",
              "    <tr>\n",
              "      <th>4899</th>\n",
              "      <td>000075</td>\n",
              "      <td>삼양홀딩스우</td>\n",
              "      <td>2016-01-08</td>\n",
              "      <td>72900</td>\n",
              "      <td>74800</td>\n",
              "      <td>71600</td>\n",
              "      <td>74800</td>\n",
              "      <td>939</td>\n",
              "      <td>NaN</td>\n",
              "      <td>NaN</td>\n",
              "    </tr>\n",
              "    <tr>\n",
              "      <th>...</th>\n",
              "      <td>...</td>\n",
              "      <td>...</td>\n",
              "      <td>...</td>\n",
              "      <td>...</td>\n",
              "      <td>...</td>\n",
              "      <td>...</td>\n",
              "      <td>...</td>\n",
              "      <td>...</td>\n",
              "      <td>...</td>\n",
              "      <td>...</td>\n",
              "    </tr>\n",
              "    <tr>\n",
              "      <th>1849326</th>\n",
              "      <td>900140</td>\n",
              "      <td>엘브이엠씨홀딩스</td>\n",
              "      <td>2019-12-23</td>\n",
              "      <td>4300</td>\n",
              "      <td>4300</td>\n",
              "      <td>4175</td>\n",
              "      <td>4185</td>\n",
              "      <td>114713</td>\n",
              "      <td>NaN</td>\n",
              "      <td>NaN</td>\n",
              "    </tr>\n",
              "    <tr>\n",
              "      <th>1849327</th>\n",
              "      <td>900140</td>\n",
              "      <td>엘브이엠씨홀딩스</td>\n",
              "      <td>2019-12-24</td>\n",
              "      <td>4185</td>\n",
              "      <td>4185</td>\n",
              "      <td>3900</td>\n",
              "      <td>4030</td>\n",
              "      <td>151428</td>\n",
              "      <td>NaN</td>\n",
              "      <td>NaN</td>\n",
              "    </tr>\n",
              "    <tr>\n",
              "      <th>1849328</th>\n",
              "      <td>900140</td>\n",
              "      <td>엘브이엠씨홀딩스</td>\n",
              "      <td>2019-12-26</td>\n",
              "      <td>4035</td>\n",
              "      <td>4300</td>\n",
              "      <td>4030</td>\n",
              "      <td>4205</td>\n",
              "      <td>128054</td>\n",
              "      <td>NaN</td>\n",
              "      <td>NaN</td>\n",
              "    </tr>\n",
              "    <tr>\n",
              "      <th>1849329</th>\n",
              "      <td>900140</td>\n",
              "      <td>엘브이엠씨홀딩스</td>\n",
              "      <td>2019-12-27</td>\n",
              "      <td>4220</td>\n",
              "      <td>4240</td>\n",
              "      <td>4135</td>\n",
              "      <td>4180</td>\n",
              "      <td>62532</td>\n",
              "      <td>NaN</td>\n",
              "      <td>NaN</td>\n",
              "    </tr>\n",
              "    <tr>\n",
              "      <th>1849330</th>\n",
              "      <td>900140</td>\n",
              "      <td>엘브이엠씨홀딩스</td>\n",
              "      <td>2019-12-30</td>\n",
              "      <td>4205</td>\n",
              "      <td>4205</td>\n",
              "      <td>4120</td>\n",
              "      <td>4160</td>\n",
              "      <td>68965</td>\n",
              "      <td>NaN</td>\n",
              "      <td>NaN</td>\n",
              "    </tr>\n",
              "  </tbody>\n",
              "</table>\n",
              "<p>162514 rows × 10 columns</p>\n",
              "</div>"
            ],
            "text/plain": [
              "        stock_id_x      name        date  ...  trading_volume  stock_id_y  industry\n",
              "4895        000075    삼양홀딩스우  2016-01-04  ...             911         NaN       NaN\n",
              "4896        000075    삼양홀딩스우  2016-01-05  ...             452         NaN       NaN\n",
              "4897        000075    삼양홀딩스우  2016-01-06  ...            1792         NaN       NaN\n",
              "4898        000075    삼양홀딩스우  2016-01-07  ...             810         NaN       NaN\n",
              "4899        000075    삼양홀딩스우  2016-01-08  ...             939         NaN       NaN\n",
              "...            ...       ...         ...  ...             ...         ...       ...\n",
              "1849326     900140  엘브이엠씨홀딩스  2019-12-23  ...          114713         NaN       NaN\n",
              "1849327     900140  엘브이엠씨홀딩스  2019-12-24  ...          151428         NaN       NaN\n",
              "1849328     900140  엘브이엠씨홀딩스  2019-12-26  ...          128054         NaN       NaN\n",
              "1849329     900140  엘브이엠씨홀딩스  2019-12-27  ...           62532         NaN       NaN\n",
              "1849330     900140  엘브이엠씨홀딩스  2019-12-30  ...           68965         NaN       NaN\n",
              "\n",
              "[162514 rows x 10 columns]"
            ]
          },
          "metadata": {
            "tags": []
          },
          "execution_count": 41
        }
      ]
    },
    {
      "cell_type": "code",
      "metadata": {
        "id": "EdayipVlrNAb",
        "colab_type": "code",
        "colab": {}
      },
      "source": [
        "merged = merged.drop(columns=['stock_id_y']).rename(columns={'stock_id_x': 'stock_id'})\n",
        "merged.to_csv(\"stocks_merged.csv\")"
      ],
      "execution_count": 43,
      "outputs": []
    },
    {
      "cell_type": "code",
      "metadata": {
        "id": "z1bWkugw5Ca9",
        "colab_type": "code",
        "colab": {}
      },
      "source": [
        ""
      ],
      "execution_count": null,
      "outputs": []
    }
  ]
}