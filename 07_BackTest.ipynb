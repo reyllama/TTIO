{
  "nbformat": 4,
  "nbformat_minor": 0,
  "metadata": {
    "colab": {
      "name": "07_BackTest.ipynb",
      "provenance": [],
      "collapsed_sections": [],
      "authorship_tag": "ABX9TyMEZB0XIXi5lmc8PDgcAamK",
      "include_colab_link": true
    },
    "kernelspec": {
      "name": "python3",
      "display_name": "Python 3"
    }
  },
  "cells": [
    {
      "cell_type": "markdown",
      "metadata": {
        "id": "view-in-github",
        "colab_type": "text"
      },
      "source": [
        "<a href=\"https://colab.research.google.com/github/reyllama/TTIO/blob/master/07_BackTest.ipynb\" target=\"_parent\"><img src=\"https://colab.research.google.com/assets/colab-badge.svg\" alt=\"Open In Colab\"/></a>"
      ]
    },
    {
      "cell_type": "markdown",
      "metadata": {
        "id": "cUnpa4I5D7GW",
        "colab_type": "text"
      },
      "source": [
        "## Modulate"
      ]
    },
    {
      "cell_type": "code",
      "metadata": {
        "id": "sfB_Q8_TvM_k",
        "colab_type": "code",
        "colab": {
          "base_uri": "https://localhost:8080/",
          "height": 35
        },
        "outputId": "bfcd42fc-4fa1-4df6-ffae-a28fd5afcd84"
      },
      "source": [
        "import pandas as pd\n",
        "import numpy as np\n",
        "import matplotlib.pyplot as plt\n",
        "import torch\n",
        "from torch import nn, optim\n",
        "from torch.autograd import Variable\n",
        "from google.colab import drive\n",
        "drive.mount('/content/drive')"
      ],
      "execution_count": 245,
      "outputs": [
        {
          "output_type": "stream",
          "text": [
            "Drive already mounted at /content/drive; to attempt to forcibly remount, call drive.mount(\"/content/drive\", force_remount=True).\n"
          ],
          "name": "stdout"
        }
      ]
    },
    {
      "cell_type": "code",
      "metadata": {
        "id": "cBXBqEbsb3Jr",
        "colab_type": "code",
        "colab": {}
      },
      "source": [
        "data = pd.read_csv(\"/content/drive/My Drive/core_stocks.csv\", dtype={'stock_id': str})\n",
        "data['stock_id'] = data['stock_id'].astype(str)"
      ],
      "execution_count": 246,
      "outputs": []
    },
    {
      "cell_type": "code",
      "metadata": {
        "id": "BCkp8SYZYqv2",
        "colab_type": "code",
        "colab": {}
      },
      "source": [
        "def data_preparer(n=1, n_epochs=120, lr=0.05, silent=False):\n",
        "    path = \"/content/drive/My Drive/corr{0}.csv\".format(n)\n",
        "    df = pd.read_csv(path)\n",
        "    df = df.set_index(keys='stock_id')\n",
        "    df.columns = df.columns.astype(str)\n",
        "    df.index = df.index.astype(str)\n",
        "\n",
        "    if n==1:\n",
        "        st, ed = 1, 121\n",
        "    elif n==2:\n",
        "        st, ed = 62, 186\n",
        "    elif n==3:\n",
        "        st, ed=124,248\n",
        "    elif n==4:\n",
        "        st, ed=186,310\n",
        "    elif n==5:\n",
        "        st, ed=248, 368\n",
        "    elif n==6:\n",
        "        st, ed=310, 432\n",
        "    elif n==7:\n",
        "        st, ed=368,489\n",
        "    elif n==8:\n",
        "        st, ed=432, 550\n",
        "    else:\n",
        "        print(\"Too Big A Number\")\n",
        "        return None\n",
        "\n",
        "    embeddings = get_embeddings(corr_df=df, n_epochs=n_epochs, lr=lr, silent=silent)\n",
        "\n",
        "    return df, embeddings, st, ed"
      ],
      "execution_count": 278,
      "outputs": []
    },
    {
      "cell_type": "code",
      "metadata": {
        "id": "_uoM49VSfRDm",
        "colab_type": "code",
        "colab": {
          "base_uri": "https://localhost:8080/",
          "height": 377
        },
        "outputId": "0b29dcfc-9456-4fff-8c46-1695902a0b56"
      },
      "source": [
        "df, embeddings, st, ed = data_preparer(n=1, n_epochs=120, lr=0.05)"
      ],
      "execution_count": 248,
      "outputs": [
        {
          "output_type": "stream",
          "text": [
            "/usr/local/lib/python3.6/dist-packages/IPython/core/interactiveshell.py:2822: DtypeWarning: Columns (0) have mixed types.Specify dtype option on import or set low_memory=False.\n",
            "  if self.run_code(code, result):\n"
          ],
          "name": "stderr"
        },
        {
          "output_type": "stream",
          "text": [
            "20th epoch in process\n",
            "running loss: -754536.5625\n",
            "\n",
            "40th epoch in process\n",
            "running loss: -857014.5625\n",
            "\n",
            "60th epoch in process\n",
            "running loss: -906195.3125\n",
            "\n",
            "80th epoch in process\n",
            "running loss: -962533.75\n",
            "\n",
            "100th epoch in process\n",
            "running loss: -1019501.9375\n",
            "\n",
            "120th epoch in process\n",
            "running loss: -1062266.625\n",
            "\n"
          ],
          "name": "stdout"
        }
      ]
    },
    {
      "cell_type": "code",
      "metadata": {
        "id": "Efvsw-v28vMp",
        "colab_type": "code",
        "colab": {}
      },
      "source": [
        "def get_embeddings(corr_df=df, n_epochs=100, dim=32, lr=0.01, silent=False):\n",
        "  dtype = torch.FloatTensor\n",
        "  epochs = n_epochs\n",
        "  emb_dim = dim\n",
        "  embeddings = Variable(torch.randn(emb_dim, len(df)).type(dtype), requires_grad=True)\n",
        "  lr = lr\n",
        "  optimizer = optim.Adam([embeddings], lr=lr)\n",
        "  mean = np.abs(df).mean().mean()\n",
        "  coef = 1/mean # Hyper Parameter 변경\n",
        "  loss_track = []\n",
        "\n",
        "  for epoch in range(epochs):\n",
        "    loss = 0\n",
        "    for i in range(len(df)):\n",
        "      v1 = embeddings[:, i].view(emb_dim, -1)\n",
        "      dist = torch.norm(v1 - embeddings, dim=0).view(len(df), 1)\n",
        "      corrs = torch.from_numpy(np.abs(coef*np.array(df.iloc[:, i]))-1).view(1, len(df)).type(torch.FloatTensor)\n",
        "    #   corrs = torch.from_numpy(np.array(df.iloc[:, i])).view(1, len(df)).type(torch.FloatTensor) # rho 교수님 버전\n",
        "      loss += torch.mm(corrs, dist)/2\n",
        "\n",
        "    #   v1 = embeddings[:, i].view(-1, emb_dim)\n",
        "    #   mm = torch.mm(v1, embeddings)\n",
        "    #   mm[:, i] = torch.zeros(1) # 자기 자신과의 dot product은 0으로 만들어줌. 그렇지 않으면 각각이 다 0 벡터가 될 우려\n",
        "    #   corrs = torch.from_numpy(coef*np.array(df.iloc[:, i])).view(len(df), 1).type(torch.FloatTensor)\n",
        "    #   loss += torch.mm(mm, corrs)\n",
        "\n",
        "    loss_track.append(loss.item())\n",
        "    if not silent:\n",
        "        if (epoch+1) % 20 == 0:\n",
        "            print(\"{0}th epoch in process\".format(epoch+1))\n",
        "            print('running loss: {}'.format(loss.item()))\n",
        "            print()\n",
        "\n",
        "    optimizer.zero_grad()\n",
        "    loss.backward(retain_graph=False)\n",
        "    optimizer.step()\n",
        "\n",
        "    with torch.no_grad():\n",
        "      for element in embeddings:\n",
        "        element.clamp_(0,1)\n",
        "\n",
        "  return embeddings"
      ],
      "execution_count": 249,
      "outputs": []
    },
    {
      "cell_type": "code",
      "metadata": {
        "id": "TWttcuW_CSmi",
        "colab_type": "code",
        "colab": {
          "base_uri": "https://localhost:8080/",
          "height": 125
        },
        "outputId": "c5b0a701-f357-41fa-a537-a341b24f9a65"
      },
      "source": [
        "!pip install ta\n",
        "import ta\n",
        "\n",
        "def bias(close=None, m=7):\n",
        "  return close - close.rolling(m).mean()\n",
        "\n",
        "def preprocessing(data=data, start=125, end=125+62, corr_df = df):\n",
        "\n",
        "  data['stock_id'] = data['stock_id'].astype(str)\n",
        "  data['year'] = data['date'].apply(lambda x: int(x[0:4]))\n",
        "  data['month'] = data['date'].apply(lambda x: int(x[5:7]))\n",
        "\n",
        "  data = data[(data['date_index']<=end)&(data['date_index']>=start)]\n",
        "  data = data[data['stock_id'].isin(df.columns)]\n",
        "\n",
        "  data['KLength'] = data['closing_price'] - data['opening_price']\n",
        "  data['KUpperLength'] = data['highest_price'] - data[['opening_price', 'closing_price']].max(axis=1)\n",
        "  data['temp'] = data['opening_price']-data['lowest_price']\n",
        "  data['KLowerLength'] = data[['closing_price', 'temp']].min(axis=1)\n",
        "  data['return'] = data['closing_price'].diff()\n",
        "  data = data.drop(columns=['temp'])\n",
        "\n",
        "  data['EMA'] = ta.trend.ema_indicator(close=data['closing_price'])\n",
        "  data['MACD'] = ta.trend.macd(close=data['closing_price'])\n",
        "  data['ROC'] = ta.momentum.roc(close=data['closing_price'])\n",
        "  data['BIAS'] = bias(data['closing_price'])\n",
        "  \n",
        "\n",
        "  return data"
      ],
      "execution_count": 250,
      "outputs": [
        {
          "output_type": "stream",
          "text": [
            "Requirement already satisfied: ta in /usr/local/lib/python3.6/dist-packages (0.5.25)\n",
            "Requirement already satisfied: pandas in /usr/local/lib/python3.6/dist-packages (from ta) (1.0.5)\n",
            "Requirement already satisfied: numpy in /usr/local/lib/python3.6/dist-packages (from ta) (1.18.5)\n",
            "Requirement already satisfied: python-dateutil>=2.6.1 in /usr/local/lib/python3.6/dist-packages (from pandas->ta) (2.8.1)\n",
            "Requirement already satisfied: pytz>=2017.2 in /usr/local/lib/python3.6/dist-packages (from pandas->ta) (2018.9)\n",
            "Requirement already satisfied: six>=1.5 in /usr/local/lib/python3.6/dist-packages (from python-dateutil>=2.6.1->pandas->ta) (1.12.0)\n"
          ],
          "name": "stdout"
        }
      ]
    },
    {
      "cell_type": "code",
      "metadata": {
        "id": "Zi6SG9chCSjN",
        "colab_type": "code",
        "colab": {}
      },
      "source": [
        "def rescale_factor(data=data, indicator='KLength', lr=0.005, n_epochs=3000, embeddings=None):\n",
        "  KL = data.pivot(index='date', columns='stock_id', values=indicator)\n",
        "  R = data.pivot(index='date', columns='stock_id', values='return')\n",
        "\n",
        "  if indicator in ['KLength', 'KUpperLength', 'KLowerLength']:\n",
        "    KL = KL.iloc[:-1, ]\n",
        "    R = R.iloc[1:, ]\n",
        "  elif indicator == 'EMA':\n",
        "    KL = KL.iloc[11:-1, ]\n",
        "    R = R.iloc[12:, ]\n",
        "  elif indicator == 'MACD':\n",
        "    KL = KL.iloc[25:-1, ]\n",
        "    R = R.iloc[26:, ]\n",
        "  elif indicator == 'ROC':\n",
        "    KL = KL.iloc[12:-1, ]\n",
        "    R = R.iloc[13:, ]\n",
        "  elif indicator == 'BIAS':\n",
        "    KL = KL.iloc[6:-1, ]\n",
        "    R = R.iloc[7:, ]\n",
        "  else:\n",
        "    print('Unknown Indicator!')\n",
        "    return None\n",
        "\n",
        "  dtype = torch.FloatTensor\n",
        "  weights = Variable(torch.randn(1, 32).type(dtype), requires_grad=True)\n",
        "  lr = lr\n",
        "  optimizer = optim.Adam([weights], lr=lr)\n",
        "  epochs = n_epochs\n",
        "  indic = np.array(KL)\n",
        "  returns = np.array(R)\n",
        "\n",
        "  for epoch in range(epochs):\n",
        "    loss = 0\n",
        "\n",
        "    rescale_fc = torch.exp(torch.mm(weights, embeddings)) / torch.sum(torch.exp(torch.mm(weights, embeddings)))\n",
        "    opt_ind = torch.from_numpy(indic) * rescale_fc # element-wise\n",
        "    mean_ind = torch.mean(opt_ind, axis=0)\n",
        "    mean_ret = torch.mean(torch.from_numpy(returns), axis=0)\n",
        "\n",
        "    vx = opt_ind - mean_ind\n",
        "    vy = torch.from_numpy(returns) - mean_ret\n",
        "    loss = -torch.abs(torch.sum(vx * vy) / (torch.sqrt(torch.sum(vx ** 2)) * torch.sqrt(torch.sum(vy ** 2))))\n",
        "\n",
        "    if (epoch+1) % 1000 == 0:\n",
        "      print(\"{0}th epoch in process\".format(epoch+1))\n",
        "\n",
        "    optimizer.zero_grad()\n",
        "    loss.backward(retain_graph=False)\n",
        "    optimizer.step()\n",
        "\n",
        "    with torch.no_grad():\n",
        "      for weight in weights:\n",
        "        weight.clamp_(0,1)\n",
        "\n",
        "  return rescale_fc"
      ],
      "execution_count": 251,
      "outputs": []
    },
    {
      "cell_type": "code",
      "metadata": {
        "id": "tePrZv-HYqtR",
        "colab_type": "code",
        "colab": {}
      },
      "source": [
        "def comprehensive_backtest(data=data, corr_df=df, start=st, end=ed, window=62, embeddings=embeddings, e=5, silent=False):\n",
        "    \n",
        "    train_df = preprocessing(data=data, corr_df=corr_df, start=start, end=end)\n",
        "    first_term = preprocessing(data=data, corr_df=corr_df, start=start, end=end+window)\n",
        "    indicators=['EMA', 'MACD', 'KLength', 'KUpperLength', 'KLowerLength', 'ROC', 'BIAS']\n",
        "    result = dict()\n",
        "    result['K'], result['indicator'], result['raw'], result['scaled'] = [], [], [], []\n",
        "\n",
        "    for k in range(2, 11):\n",
        "\n",
        "\n",
        "        for indicator in indicators:\n",
        "\n",
        "            j, s, = 0, 0\n",
        "            rescale_fc = rescale_factor(indicator=indicator, data=train_df, embeddings=embeddings, n_epochs=80, lr=0.05)\n",
        "\n",
        "            for _ in range(e):\n",
        "\n",
        "                cap = 1e7\n",
        "                base_cap = 1e7\n",
        "                a,b = [1e7], [1e7]\n",
        "\n",
        "                for day in range(end, end+window-1):\n",
        "\n",
        "                    base_top10 = np.array(first_term[first_term['date_index']==day][indicator]).T.argsort()[-k:][::-1]\n",
        "                    base_top10_close = first_term[first_term['date_index']==day+1].iloc[base_top10, :]['closing_price']\n",
        "                    base_top10_open = first_term[first_term['date_index']==day+1].iloc[base_top10, :]['opening_price']\n",
        "                    base_cap += ((base_top10_close*0.997 - base_top10_open)/base_top10_open*base_cap/k).sum()\n",
        "                    a.append(base_cap)\n",
        "\n",
        "                    #Parallel Universe\n",
        "                    temp = rescale_fc.detach().numpy() * np.array(first_term[first_term['date_index']==day][indicator]).T # elementwise\n",
        "                    top10 = temp.squeeze().argsort()[-k:][::-1]\n",
        "                    top10_close = first_term[first_term['date_index']==day+1].iloc[top10, :]['closing_price']\n",
        "                    top10_open = first_term[first_term['date_index']==day+1].iloc[top10, :]['opening_price']\n",
        "                    # print((top10_close*0.997 - top10_open)/top10_open*0.1*cap)\n",
        "                    cap += ((top10_close*0.997 - top10_open)/top10_open*cap/k).sum()\n",
        "                    b.append(cap)\n",
        "\n",
        "                j += a[-1]\n",
        "                s += b[-1]\n",
        "            if not silent:\n",
        "                print(\"Top {0} 기준 Raw 수익과 Rescaled 수익은 각각 {2:.2f} // {3:.2f} ({1})\".format(k, indicator, j/e, s/e))\n",
        "\n",
        "            result['K'].append(k)\n",
        "            result['indicator'].append(indicator)\n",
        "            result['raw'].append(j/e)\n",
        "            result['scaled'].append(s/e)\n",
        "\n",
        "    return result"
      ],
      "execution_count": 270,
      "outputs": []
    },
    {
      "cell_type": "code",
      "metadata": {
        "id": "VT5y3sI9mHip",
        "colab_type": "code",
        "colab": {
          "base_uri": "https://localhost:8080/",
          "height": 49
        },
        "outputId": "a111b473-ce75-4933-b7b5-d910149061a9"
      },
      "source": [
        "output = pd.DataFrame(columns=['K', 'indicator', 'raw', 'scaled'])\n",
        "output"
      ],
      "execution_count": 279,
      "outputs": [
        {
          "output_type": "execute_result",
          "data": {
            "text/html": [
              "<div>\n",
              "<style scoped>\n",
              "    .dataframe tbody tr th:only-of-type {\n",
              "        vertical-align: middle;\n",
              "    }\n",
              "\n",
              "    .dataframe tbody tr th {\n",
              "        vertical-align: top;\n",
              "    }\n",
              "\n",
              "    .dataframe thead th {\n",
              "        text-align: right;\n",
              "    }\n",
              "</style>\n",
              "<table border=\"1\" class=\"dataframe\">\n",
              "  <thead>\n",
              "    <tr style=\"text-align: right;\">\n",
              "      <th></th>\n",
              "      <th>K</th>\n",
              "      <th>indicator</th>\n",
              "      <th>raw</th>\n",
              "      <th>scaled</th>\n",
              "    </tr>\n",
              "  </thead>\n",
              "  <tbody>\n",
              "  </tbody>\n",
              "</table>\n",
              "</div>"
            ],
            "text/plain": [
              "Empty DataFrame\n",
              "Columns: [K, indicator, raw, scaled]\n",
              "Index: []"
            ]
          },
          "metadata": {
            "tags": []
          },
          "execution_count": 279
        }
      ]
    },
    {
      "cell_type": "code",
      "metadata": {
        "id": "-4NxlLxRYqrX",
        "colab_type": "code",
        "colab": {
          "base_uri": "https://localhost:8080/",
          "height": 1000
        },
        "outputId": "b59e4e78-8906-4f1b-e5cd-24d6f978a6c2"
      },
      "source": [
        "for n_ in range(1, 9):\n",
        "\n",
        "    df, embeddings, st, ed = data_preparer(n=n_, n_epochs=120, lr=0.05, silent=True)\n",
        "    result_dict = comprehensive_backtest(data=data, corr_df=df, start=st, end=ed, window=62, embeddings=embeddings, e=5, silent=True)\n",
        "    output = pd.concat([output, pd.DataFrame(data=result_dict)])\n",
        "output"
      ],
      "execution_count": 280,
      "outputs": [
        {
          "output_type": "stream",
          "text": [
            "/usr/local/lib/python3.6/dist-packages/IPython/core/interactiveshell.py:2822: DtypeWarning: Columns (0) have mixed types.Specify dtype option on import or set low_memory=False.\n",
            "  if self.run_code(code, result):\n"
          ],
          "name": "stderr"
        },
        {
          "output_type": "stream",
          "text": [
            "20th epoch in process\n",
            "running loss: -905974.4375\n",
            "\n",
            "40th epoch in process\n",
            "running loss: -1033683.6875\n",
            "\n",
            "60th epoch in process\n",
            "running loss: -1108524.125\n",
            "\n",
            "80th epoch in process\n",
            "running loss: -1199952.375\n",
            "\n",
            "100th epoch in process\n",
            "running loss: -1245341.75\n",
            "\n",
            "120th epoch in process\n",
            "running loss: -1268586.5\n",
            "\n"
          ],
          "name": "stdout"
        },
        {
          "output_type": "stream",
          "text": [
            "/usr/local/lib/python3.6/dist-packages/IPython/core/interactiveshell.py:2822: DtypeWarning: Columns (0) have mixed types.Specify dtype option on import or set low_memory=False.\n",
            "  if self.run_code(code, result):\n"
          ],
          "name": "stderr"
        },
        {
          "output_type": "stream",
          "text": [
            "20th epoch in process\n",
            "running loss: -540580.8125\n",
            "\n",
            "40th epoch in process\n",
            "running loss: -615271.25\n",
            "\n",
            "60th epoch in process\n",
            "running loss: -655879.8125\n",
            "\n",
            "80th epoch in process\n",
            "running loss: -709052.8125\n",
            "\n",
            "100th epoch in process\n",
            "running loss: -745358.375\n",
            "\n",
            "120th epoch in process\n",
            "running loss: -766083.4375\n",
            "\n"
          ],
          "name": "stdout"
        },
        {
          "output_type": "stream",
          "text": [
            "/usr/local/lib/python3.6/dist-packages/IPython/core/interactiveshell.py:2822: DtypeWarning: Columns (0) have mixed types.Specify dtype option on import or set low_memory=False.\n",
            "  if self.run_code(code, result):\n"
          ],
          "name": "stderr"
        },
        {
          "output_type": "stream",
          "text": [
            "20th epoch in process\n",
            "running loss: -627642.8125\n",
            "\n",
            "40th epoch in process\n",
            "running loss: -718436.375\n",
            "\n",
            "60th epoch in process\n",
            "running loss: -775996.0625\n",
            "\n",
            "80th epoch in process\n",
            "running loss: -842914.4375\n",
            "\n",
            "100th epoch in process\n",
            "running loss: -871292.6875\n",
            "\n",
            "120th epoch in process\n",
            "running loss: -885752.3125\n",
            "\n"
          ],
          "name": "stdout"
        },
        {
          "output_type": "stream",
          "text": [
            "/usr/local/lib/python3.6/dist-packages/IPython/core/interactiveshell.py:2822: DtypeWarning: Columns (0) have mixed types.Specify dtype option on import or set low_memory=False.\n",
            "  if self.run_code(code, result):\n"
          ],
          "name": "stderr"
        },
        {
          "output_type": "stream",
          "text": [
            "20th epoch in process\n",
            "running loss: -665680.625\n",
            "\n",
            "40th epoch in process\n",
            "running loss: -758477.375\n",
            "\n",
            "60th epoch in process\n",
            "running loss: -812566.5625\n",
            "\n",
            "80th epoch in process\n",
            "running loss: -889573.625\n",
            "\n",
            "100th epoch in process\n",
            "running loss: -945435.25\n",
            "\n",
            "120th epoch in process\n",
            "running loss: -962777.9375\n",
            "\n"
          ],
          "name": "stdout"
        },
        {
          "output_type": "stream",
          "text": [
            "/usr/local/lib/python3.6/dist-packages/IPython/core/interactiveshell.py:2822: DtypeWarning: Columns (0) have mixed types.Specify dtype option on import or set low_memory=False.\n",
            "  if self.run_code(code, result):\n"
          ],
          "name": "stderr"
        },
        {
          "output_type": "stream",
          "text": [
            "20th epoch in process\n",
            "running loss: -434295.96875\n",
            "\n",
            "40th epoch in process\n",
            "running loss: -495276.875\n",
            "\n",
            "60th epoch in process\n",
            "running loss: -530512.0\n",
            "\n",
            "80th epoch in process\n",
            "running loss: -573292.9375\n",
            "\n",
            "100th epoch in process\n",
            "running loss: -598403.0\n",
            "\n",
            "120th epoch in process\n",
            "running loss: -609089.3125\n",
            "\n"
          ],
          "name": "stdout"
        },
        {
          "output_type": "stream",
          "text": [
            "/usr/local/lib/python3.6/dist-packages/IPython/core/interactiveshell.py:2822: DtypeWarning: Columns (0) have mixed types.Specify dtype option on import or set low_memory=False.\n",
            "  if self.run_code(code, result):\n"
          ],
          "name": "stderr"
        },
        {
          "output_type": "stream",
          "text": [
            "20th epoch in process\n",
            "running loss: -533943.25\n",
            "\n",
            "40th epoch in process\n",
            "running loss: -606466.5\n",
            "\n",
            "60th epoch in process\n",
            "running loss: -645652.9375\n",
            "\n",
            "80th epoch in process\n",
            "running loss: -695700.9375\n",
            "\n",
            "100th epoch in process\n",
            "running loss: -725462.375\n",
            "\n",
            "120th epoch in process\n",
            "running loss: -745981.5\n",
            "\n"
          ],
          "name": "stdout"
        },
        {
          "output_type": "stream",
          "text": [
            "/usr/local/lib/python3.6/dist-packages/IPython/core/interactiveshell.py:2822: DtypeWarning: Columns (0) have mixed types.Specify dtype option on import or set low_memory=False.\n",
            "  if self.run_code(code, result):\n"
          ],
          "name": "stderr"
        },
        {
          "output_type": "stream",
          "text": [
            "20th epoch in process\n",
            "running loss: -508516.28125\n",
            "\n",
            "40th epoch in process\n",
            "running loss: -587005.625\n",
            "\n",
            "60th epoch in process\n",
            "running loss: -641751.3125\n",
            "\n",
            "80th epoch in process\n",
            "running loss: -702303.0\n",
            "\n",
            "100th epoch in process\n",
            "running loss: -728485.625\n",
            "\n",
            "120th epoch in process\n",
            "running loss: -739539.9375\n",
            "\n"
          ],
          "name": "stdout"
        },
        {
          "output_type": "execute_result",
          "data": {
            "text/html": [
              "<div>\n",
              "<style scoped>\n",
              "    .dataframe tbody tr th:only-of-type {\n",
              "        vertical-align: middle;\n",
              "    }\n",
              "\n",
              "    .dataframe tbody tr th {\n",
              "        vertical-align: top;\n",
              "    }\n",
              "\n",
              "    .dataframe thead th {\n",
              "        text-align: right;\n",
              "    }\n",
              "</style>\n",
              "<table border=\"1\" class=\"dataframe\">\n",
              "  <thead>\n",
              "    <tr style=\"text-align: right;\">\n",
              "      <th></th>\n",
              "      <th>K</th>\n",
              "      <th>indicator</th>\n",
              "      <th>raw</th>\n",
              "      <th>scaled</th>\n",
              "    </tr>\n",
              "  </thead>\n",
              "  <tbody>\n",
              "    <tr>\n",
              "      <th>0</th>\n",
              "      <td>2</td>\n",
              "      <td>EMA</td>\n",
              "      <td>1.032066e+07</td>\n",
              "      <td>7.814462e+06</td>\n",
              "    </tr>\n",
              "    <tr>\n",
              "      <th>1</th>\n",
              "      <td>2</td>\n",
              "      <td>MACD</td>\n",
              "      <td>6.152803e+06</td>\n",
              "      <td>8.461164e+06</td>\n",
              "    </tr>\n",
              "    <tr>\n",
              "      <th>2</th>\n",
              "      <td>2</td>\n",
              "      <td>KLength</td>\n",
              "      <td>8.263584e+06</td>\n",
              "      <td>6.157101e+06</td>\n",
              "    </tr>\n",
              "    <tr>\n",
              "      <th>3</th>\n",
              "      <td>2</td>\n",
              "      <td>KUpperLength</td>\n",
              "      <td>7.244848e+06</td>\n",
              "      <td>7.353240e+06</td>\n",
              "    </tr>\n",
              "    <tr>\n",
              "      <th>4</th>\n",
              "      <td>2</td>\n",
              "      <td>KLowerLength</td>\n",
              "      <td>8.510831e+06</td>\n",
              "      <td>7.799338e+06</td>\n",
              "    </tr>\n",
              "    <tr>\n",
              "      <th>...</th>\n",
              "      <td>...</td>\n",
              "      <td>...</td>\n",
              "      <td>...</td>\n",
              "      <td>...</td>\n",
              "    </tr>\n",
              "    <tr>\n",
              "      <th>58</th>\n",
              "      <td>10</td>\n",
              "      <td>KLength</td>\n",
              "      <td>5.839165e+06</td>\n",
              "      <td>7.390895e+06</td>\n",
              "    </tr>\n",
              "    <tr>\n",
              "      <th>59</th>\n",
              "      <td>10</td>\n",
              "      <td>KUpperLength</td>\n",
              "      <td>7.188938e+06</td>\n",
              "      <td>7.462902e+06</td>\n",
              "    </tr>\n",
              "    <tr>\n",
              "      <th>60</th>\n",
              "      <td>10</td>\n",
              "      <td>KLowerLength</td>\n",
              "      <td>9.082560e+06</td>\n",
              "      <td>7.300929e+06</td>\n",
              "    </tr>\n",
              "    <tr>\n",
              "      <th>61</th>\n",
              "      <td>10</td>\n",
              "      <td>ROC</td>\n",
              "      <td>7.399484e+06</td>\n",
              "      <td>7.777703e+06</td>\n",
              "    </tr>\n",
              "    <tr>\n",
              "      <th>62</th>\n",
              "      <td>10</td>\n",
              "      <td>BIAS</td>\n",
              "      <td>6.149631e+06</td>\n",
              "      <td>6.673973e+06</td>\n",
              "    </tr>\n",
              "  </tbody>\n",
              "</table>\n",
              "<p>441 rows × 4 columns</p>\n",
              "</div>"
            ],
            "text/plain": [
              "     K     indicator           raw        scaled\n",
              "0    2           EMA  1.032066e+07  7.814462e+06\n",
              "1    2          MACD  6.152803e+06  8.461164e+06\n",
              "2    2       KLength  8.263584e+06  6.157101e+06\n",
              "3    2  KUpperLength  7.244848e+06  7.353240e+06\n",
              "4    2  KLowerLength  8.510831e+06  7.799338e+06\n",
              "..  ..           ...           ...           ...\n",
              "58  10       KLength  5.839165e+06  7.390895e+06\n",
              "59  10  KUpperLength  7.188938e+06  7.462902e+06\n",
              "60  10  KLowerLength  9.082560e+06  7.300929e+06\n",
              "61  10           ROC  7.399484e+06  7.777703e+06\n",
              "62  10          BIAS  6.149631e+06  6.673973e+06\n",
              "\n",
              "[441 rows x 4 columns]"
            ]
          },
          "metadata": {
            "tags": []
          },
          "execution_count": 280
        }
      ]
    },
    {
      "cell_type": "code",
      "metadata": {
        "id": "ZTGWvwqsGFEc",
        "colab_type": "code",
        "colab": {
          "base_uri": "https://localhost:8080/",
          "height": 779
        },
        "outputId": "c6fbdcf2-331d-4a11-e884-1e83e0547687"
      },
      "source": [
        "df, embeddings, st, ed = data_preparer(n=1, n_epochs=120, lr=0.05)\n",
        "result_dict = comprehensive_backtest(data=data, corr_df=df, start=st, end=ed, window=62, embeddings=embeddings, e=5, silent=True)\n",
        "output = pd.concat([pd.DataFrame(data=result_dict), output])\n",
        "output"
      ],
      "execution_count": 281,
      "outputs": [
        {
          "output_type": "stream",
          "text": [
            "/usr/local/lib/python3.6/dist-packages/IPython/core/interactiveshell.py:2822: DtypeWarning: Columns (0) have mixed types.Specify dtype option on import or set low_memory=False.\n",
            "  if self.run_code(code, result):\n"
          ],
          "name": "stderr"
        },
        {
          "output_type": "stream",
          "text": [
            "20th epoch in process\n",
            "running loss: -516099.78125\n",
            "\n",
            "40th epoch in process\n",
            "running loss: -594079.4375\n",
            "\n",
            "60th epoch in process\n",
            "running loss: -654065.8125\n",
            "\n",
            "80th epoch in process\n",
            "running loss: -720266.3125\n",
            "\n",
            "100th epoch in process\n",
            "running loss: -746321.625\n",
            "\n",
            "120th epoch in process\n",
            "running loss: -753611.625\n",
            "\n"
          ],
          "name": "stdout"
        },
        {
          "output_type": "execute_result",
          "data": {
            "text/html": [
              "<div>\n",
              "<style scoped>\n",
              "    .dataframe tbody tr th:only-of-type {\n",
              "        vertical-align: middle;\n",
              "    }\n",
              "\n",
              "    .dataframe tbody tr th {\n",
              "        vertical-align: top;\n",
              "    }\n",
              "\n",
              "    .dataframe thead th {\n",
              "        text-align: right;\n",
              "    }\n",
              "</style>\n",
              "<table border=\"1\" class=\"dataframe\">\n",
              "  <thead>\n",
              "    <tr style=\"text-align: right;\">\n",
              "      <th></th>\n",
              "      <th>K</th>\n",
              "      <th>indicator</th>\n",
              "      <th>raw</th>\n",
              "      <th>scaled</th>\n",
              "    </tr>\n",
              "  </thead>\n",
              "  <tbody>\n",
              "    <tr>\n",
              "      <th>0</th>\n",
              "      <td>2</td>\n",
              "      <td>EMA</td>\n",
              "      <td>9.841349e+06</td>\n",
              "      <td>8.204562e+06</td>\n",
              "    </tr>\n",
              "    <tr>\n",
              "      <th>1</th>\n",
              "      <td>2</td>\n",
              "      <td>MACD</td>\n",
              "      <td>9.218793e+06</td>\n",
              "      <td>8.639925e+06</td>\n",
              "    </tr>\n",
              "    <tr>\n",
              "      <th>2</th>\n",
              "      <td>2</td>\n",
              "      <td>KLength</td>\n",
              "      <td>7.920095e+06</td>\n",
              "      <td>7.266897e+06</td>\n",
              "    </tr>\n",
              "    <tr>\n",
              "      <th>3</th>\n",
              "      <td>2</td>\n",
              "      <td>KUpperLength</td>\n",
              "      <td>8.623466e+06</td>\n",
              "      <td>9.691628e+06</td>\n",
              "    </tr>\n",
              "    <tr>\n",
              "      <th>4</th>\n",
              "      <td>2</td>\n",
              "      <td>KLowerLength</td>\n",
              "      <td>7.611521e+06</td>\n",
              "      <td>7.811540e+06</td>\n",
              "    </tr>\n",
              "    <tr>\n",
              "      <th>...</th>\n",
              "      <td>...</td>\n",
              "      <td>...</td>\n",
              "      <td>...</td>\n",
              "      <td>...</td>\n",
              "    </tr>\n",
              "    <tr>\n",
              "      <th>58</th>\n",
              "      <td>10</td>\n",
              "      <td>KLength</td>\n",
              "      <td>5.839165e+06</td>\n",
              "      <td>7.390895e+06</td>\n",
              "    </tr>\n",
              "    <tr>\n",
              "      <th>59</th>\n",
              "      <td>10</td>\n",
              "      <td>KUpperLength</td>\n",
              "      <td>7.188938e+06</td>\n",
              "      <td>7.462902e+06</td>\n",
              "    </tr>\n",
              "    <tr>\n",
              "      <th>60</th>\n",
              "      <td>10</td>\n",
              "      <td>KLowerLength</td>\n",
              "      <td>9.082560e+06</td>\n",
              "      <td>7.300929e+06</td>\n",
              "    </tr>\n",
              "    <tr>\n",
              "      <th>61</th>\n",
              "      <td>10</td>\n",
              "      <td>ROC</td>\n",
              "      <td>7.399484e+06</td>\n",
              "      <td>7.777703e+06</td>\n",
              "    </tr>\n",
              "    <tr>\n",
              "      <th>62</th>\n",
              "      <td>10</td>\n",
              "      <td>BIAS</td>\n",
              "      <td>6.149631e+06</td>\n",
              "      <td>6.673973e+06</td>\n",
              "    </tr>\n",
              "  </tbody>\n",
              "</table>\n",
              "<p>504 rows × 4 columns</p>\n",
              "</div>"
            ],
            "text/plain": [
              "     K     indicator           raw        scaled\n",
              "0    2           EMA  9.841349e+06  8.204562e+06\n",
              "1    2          MACD  9.218793e+06  8.639925e+06\n",
              "2    2       KLength  7.920095e+06  7.266897e+06\n",
              "3    2  KUpperLength  8.623466e+06  9.691628e+06\n",
              "4    2  KLowerLength  7.611521e+06  7.811540e+06\n",
              "..  ..           ...           ...           ...\n",
              "58  10       KLength  5.839165e+06  7.390895e+06\n",
              "59  10  KUpperLength  7.188938e+06  7.462902e+06\n",
              "60  10  KLowerLength  9.082560e+06  7.300929e+06\n",
              "61  10           ROC  7.399484e+06  7.777703e+06\n",
              "62  10          BIAS  6.149631e+06  6.673973e+06\n",
              "\n",
              "[504 rows x 4 columns]"
            ]
          },
          "metadata": {
            "tags": []
          },
          "execution_count": 281
        }
      ]
    },
    {
      "cell_type": "code",
      "metadata": {
        "id": "wjm9QG2efM6d",
        "colab_type": "code",
        "colab": {}
      },
      "source": [
        "output.to_csv('corr_output.csv', index=False)"
      ],
      "execution_count": 282,
      "outputs": []
    },
    {
      "cell_type": "code",
      "metadata": {
        "id": "UTJN3NiCfM4M",
        "colab_type": "code",
        "colab": {
          "base_uri": "https://localhost:8080/",
          "height": 419
        },
        "outputId": "5bb68132-7271-427f-f927-2623c285e630"
      },
      "source": [
        "output = output.reset_index(drop=True)\n",
        "output"
      ],
      "execution_count": 284,
      "outputs": [
        {
          "output_type": "execute_result",
          "data": {
            "text/html": [
              "<div>\n",
              "<style scoped>\n",
              "    .dataframe tbody tr th:only-of-type {\n",
              "        vertical-align: middle;\n",
              "    }\n",
              "\n",
              "    .dataframe tbody tr th {\n",
              "        vertical-align: top;\n",
              "    }\n",
              "\n",
              "    .dataframe thead th {\n",
              "        text-align: right;\n",
              "    }\n",
              "</style>\n",
              "<table border=\"1\" class=\"dataframe\">\n",
              "  <thead>\n",
              "    <tr style=\"text-align: right;\">\n",
              "      <th></th>\n",
              "      <th>K</th>\n",
              "      <th>indicator</th>\n",
              "      <th>raw</th>\n",
              "      <th>scaled</th>\n",
              "    </tr>\n",
              "  </thead>\n",
              "  <tbody>\n",
              "    <tr>\n",
              "      <th>0</th>\n",
              "      <td>2</td>\n",
              "      <td>EMA</td>\n",
              "      <td>9.841349e+06</td>\n",
              "      <td>8.204562e+06</td>\n",
              "    </tr>\n",
              "    <tr>\n",
              "      <th>1</th>\n",
              "      <td>2</td>\n",
              "      <td>MACD</td>\n",
              "      <td>9.218793e+06</td>\n",
              "      <td>8.639925e+06</td>\n",
              "    </tr>\n",
              "    <tr>\n",
              "      <th>2</th>\n",
              "      <td>2</td>\n",
              "      <td>KLength</td>\n",
              "      <td>7.920095e+06</td>\n",
              "      <td>7.266897e+06</td>\n",
              "    </tr>\n",
              "    <tr>\n",
              "      <th>3</th>\n",
              "      <td>2</td>\n",
              "      <td>KUpperLength</td>\n",
              "      <td>8.623466e+06</td>\n",
              "      <td>9.691628e+06</td>\n",
              "    </tr>\n",
              "    <tr>\n",
              "      <th>4</th>\n",
              "      <td>2</td>\n",
              "      <td>KLowerLength</td>\n",
              "      <td>7.611521e+06</td>\n",
              "      <td>7.811540e+06</td>\n",
              "    </tr>\n",
              "    <tr>\n",
              "      <th>...</th>\n",
              "      <td>...</td>\n",
              "      <td>...</td>\n",
              "      <td>...</td>\n",
              "      <td>...</td>\n",
              "    </tr>\n",
              "    <tr>\n",
              "      <th>499</th>\n",
              "      <td>10</td>\n",
              "      <td>KLength</td>\n",
              "      <td>5.839165e+06</td>\n",
              "      <td>7.390895e+06</td>\n",
              "    </tr>\n",
              "    <tr>\n",
              "      <th>500</th>\n",
              "      <td>10</td>\n",
              "      <td>KUpperLength</td>\n",
              "      <td>7.188938e+06</td>\n",
              "      <td>7.462902e+06</td>\n",
              "    </tr>\n",
              "    <tr>\n",
              "      <th>501</th>\n",
              "      <td>10</td>\n",
              "      <td>KLowerLength</td>\n",
              "      <td>9.082560e+06</td>\n",
              "      <td>7.300929e+06</td>\n",
              "    </tr>\n",
              "    <tr>\n",
              "      <th>502</th>\n",
              "      <td>10</td>\n",
              "      <td>ROC</td>\n",
              "      <td>7.399484e+06</td>\n",
              "      <td>7.777703e+06</td>\n",
              "    </tr>\n",
              "    <tr>\n",
              "      <th>503</th>\n",
              "      <td>10</td>\n",
              "      <td>BIAS</td>\n",
              "      <td>6.149631e+06</td>\n",
              "      <td>6.673973e+06</td>\n",
              "    </tr>\n",
              "  </tbody>\n",
              "</table>\n",
              "<p>504 rows × 4 columns</p>\n",
              "</div>"
            ],
            "text/plain": [
              "      K     indicator           raw        scaled\n",
              "0     2           EMA  9.841349e+06  8.204562e+06\n",
              "1     2          MACD  9.218793e+06  8.639925e+06\n",
              "2     2       KLength  7.920095e+06  7.266897e+06\n",
              "3     2  KUpperLength  8.623466e+06  9.691628e+06\n",
              "4     2  KLowerLength  7.611521e+06  7.811540e+06\n",
              "..   ..           ...           ...           ...\n",
              "499  10       KLength  5.839165e+06  7.390895e+06\n",
              "500  10  KUpperLength  7.188938e+06  7.462902e+06\n",
              "501  10  KLowerLength  9.082560e+06  7.300929e+06\n",
              "502  10           ROC  7.399484e+06  7.777703e+06\n",
              "503  10          BIAS  6.149631e+06  6.673973e+06\n",
              "\n",
              "[504 rows x 4 columns]"
            ]
          },
          "metadata": {
            "tags": []
          },
          "execution_count": 284
        }
      ]
    },
    {
      "cell_type": "code",
      "metadata": {
        "id": "NGAkXkSFKcyL",
        "colab_type": "code",
        "colab": {}
      },
      "source": [
        "output['diff'] = output['scaled'] - output['raw']"
      ],
      "execution_count": 287,
      "outputs": []
    },
    {
      "cell_type": "code",
      "metadata": {
        "id": "v-7gPRYafM1W",
        "colab_type": "code",
        "colab": {
          "base_uri": "https://localhost:8080/",
          "height": 359
        },
        "outputId": "83eb2d07-60e7-4995-c240-6eba51cd9bf7"
      },
      "source": [
        "output.groupby('K')[['scaled', 'raw', 'diff']].mean()"
      ],
      "execution_count": 288,
      "outputs": [
        {
          "output_type": "execute_result",
          "data": {
            "text/html": [
              "<div>\n",
              "<style scoped>\n",
              "    .dataframe tbody tr th:only-of-type {\n",
              "        vertical-align: middle;\n",
              "    }\n",
              "\n",
              "    .dataframe tbody tr th {\n",
              "        vertical-align: top;\n",
              "    }\n",
              "\n",
              "    .dataframe thead th {\n",
              "        text-align: right;\n",
              "    }\n",
              "</style>\n",
              "<table border=\"1\" class=\"dataframe\">\n",
              "  <thead>\n",
              "    <tr style=\"text-align: right;\">\n",
              "      <th></th>\n",
              "      <th>scaled</th>\n",
              "      <th>raw</th>\n",
              "      <th>diff</th>\n",
              "    </tr>\n",
              "    <tr>\n",
              "      <th>K</th>\n",
              "      <th></th>\n",
              "      <th></th>\n",
              "      <th></th>\n",
              "    </tr>\n",
              "  </thead>\n",
              "  <tbody>\n",
              "    <tr>\n",
              "      <th>2</th>\n",
              "      <td>7.391624e+06</td>\n",
              "      <td>7.920106e+06</td>\n",
              "      <td>-528481.519133</td>\n",
              "    </tr>\n",
              "    <tr>\n",
              "      <th>3</th>\n",
              "      <td>7.704454e+06</td>\n",
              "      <td>7.757401e+06</td>\n",
              "      <td>-52947.691021</td>\n",
              "    </tr>\n",
              "    <tr>\n",
              "      <th>4</th>\n",
              "      <td>7.797532e+06</td>\n",
              "      <td>7.738031e+06</td>\n",
              "      <td>59500.549041</td>\n",
              "    </tr>\n",
              "    <tr>\n",
              "      <th>5</th>\n",
              "      <td>7.866774e+06</td>\n",
              "      <td>7.693474e+06</td>\n",
              "      <td>173300.094930</td>\n",
              "    </tr>\n",
              "    <tr>\n",
              "      <th>6</th>\n",
              "      <td>7.654959e+06</td>\n",
              "      <td>7.715342e+06</td>\n",
              "      <td>-60382.739740</td>\n",
              "    </tr>\n",
              "    <tr>\n",
              "      <th>7</th>\n",
              "      <td>7.656316e+06</td>\n",
              "      <td>7.690072e+06</td>\n",
              "      <td>-33755.721431</td>\n",
              "    </tr>\n",
              "    <tr>\n",
              "      <th>8</th>\n",
              "      <td>7.662479e+06</td>\n",
              "      <td>7.684313e+06</td>\n",
              "      <td>-21834.034419</td>\n",
              "    </tr>\n",
              "    <tr>\n",
              "      <th>9</th>\n",
              "      <td>7.597107e+06</td>\n",
              "      <td>7.634245e+06</td>\n",
              "      <td>-37138.343381</td>\n",
              "    </tr>\n",
              "    <tr>\n",
              "      <th>10</th>\n",
              "      <td>7.572892e+06</td>\n",
              "      <td>7.672283e+06</td>\n",
              "      <td>-99390.395573</td>\n",
              "    </tr>\n",
              "  </tbody>\n",
              "</table>\n",
              "</div>"
            ],
            "text/plain": [
              "          scaled           raw           diff\n",
              "K                                            \n",
              "2   7.391624e+06  7.920106e+06 -528481.519133\n",
              "3   7.704454e+06  7.757401e+06  -52947.691021\n",
              "4   7.797532e+06  7.738031e+06   59500.549041\n",
              "5   7.866774e+06  7.693474e+06  173300.094930\n",
              "6   7.654959e+06  7.715342e+06  -60382.739740\n",
              "7   7.656316e+06  7.690072e+06  -33755.721431\n",
              "8   7.662479e+06  7.684313e+06  -21834.034419\n",
              "9   7.597107e+06  7.634245e+06  -37138.343381\n",
              "10  7.572892e+06  7.672283e+06  -99390.395573"
            ]
          },
          "metadata": {
            "tags": []
          },
          "execution_count": 288
        }
      ]
    },
    {
      "cell_type": "code",
      "metadata": {
        "id": "nAsFq-WNK6xt",
        "colab_type": "code",
        "colab": {
          "base_uri": "https://localhost:8080/",
          "height": 204
        },
        "outputId": "00ae3d39-6b72-4893-9ed4-191e3c84d571"
      },
      "source": [
        "jj = pd.read_csv('/content/drive/My Drive/cov_output.csv')\n",
        "jj.head()"
      ],
      "execution_count": 289,
      "outputs": [
        {
          "output_type": "execute_result",
          "data": {
            "text/html": [
              "<div>\n",
              "<style scoped>\n",
              "    .dataframe tbody tr th:only-of-type {\n",
              "        vertical-align: middle;\n",
              "    }\n",
              "\n",
              "    .dataframe tbody tr th {\n",
              "        vertical-align: top;\n",
              "    }\n",
              "\n",
              "    .dataframe thead th {\n",
              "        text-align: right;\n",
              "    }\n",
              "</style>\n",
              "<table border=\"1\" class=\"dataframe\">\n",
              "  <thead>\n",
              "    <tr style=\"text-align: right;\">\n",
              "      <th></th>\n",
              "      <th>K</th>\n",
              "      <th>indicator</th>\n",
              "      <th>raw</th>\n",
              "      <th>scaled</th>\n",
              "    </tr>\n",
              "  </thead>\n",
              "  <tbody>\n",
              "    <tr>\n",
              "      <th>0</th>\n",
              "      <td>2</td>\n",
              "      <td>EMA</td>\n",
              "      <td>9.841349e+06</td>\n",
              "      <td>1.019639e+07</td>\n",
              "    </tr>\n",
              "    <tr>\n",
              "      <th>1</th>\n",
              "      <td>2</td>\n",
              "      <td>MACD</td>\n",
              "      <td>9.218793e+06</td>\n",
              "      <td>5.890534e+06</td>\n",
              "    </tr>\n",
              "    <tr>\n",
              "      <th>2</th>\n",
              "      <td>2</td>\n",
              "      <td>KLength</td>\n",
              "      <td>7.920095e+06</td>\n",
              "      <td>7.418756e+06</td>\n",
              "    </tr>\n",
              "    <tr>\n",
              "      <th>3</th>\n",
              "      <td>2</td>\n",
              "      <td>KUpperLength</td>\n",
              "      <td>8.623466e+06</td>\n",
              "      <td>8.733119e+06</td>\n",
              "    </tr>\n",
              "    <tr>\n",
              "      <th>4</th>\n",
              "      <td>2</td>\n",
              "      <td>KLowerLength</td>\n",
              "      <td>7.611521e+06</td>\n",
              "      <td>6.880143e+06</td>\n",
              "    </tr>\n",
              "  </tbody>\n",
              "</table>\n",
              "</div>"
            ],
            "text/plain": [
              "   K     indicator           raw        scaled\n",
              "0  2           EMA  9.841349e+06  1.019639e+07\n",
              "1  2          MACD  9.218793e+06  5.890534e+06\n",
              "2  2       KLength  7.920095e+06  7.418756e+06\n",
              "3  2  KUpperLength  8.623466e+06  8.733119e+06\n",
              "4  2  KLowerLength  7.611521e+06  6.880143e+06"
            ]
          },
          "metadata": {
            "tags": []
          },
          "execution_count": 289
        }
      ]
    },
    {
      "cell_type": "code",
      "metadata": {
        "id": "QaELfKORLd2s",
        "colab_type": "code",
        "colab": {
          "base_uri": "https://localhost:8080/",
          "height": 359
        },
        "outputId": "97a83e84-b4a7-46a4-c031-e2a3fe46af92"
      },
      "source": [
        "jj['diff'] = jj['scaled'] - jj['raw']\n",
        "jj.groupby('K')[['scaled', 'raw', 'diff']].mean()"
      ],
      "execution_count": 290,
      "outputs": [
        {
          "output_type": "execute_result",
          "data": {
            "text/html": [
              "<div>\n",
              "<style scoped>\n",
              "    .dataframe tbody tr th:only-of-type {\n",
              "        vertical-align: middle;\n",
              "    }\n",
              "\n",
              "    .dataframe tbody tr th {\n",
              "        vertical-align: top;\n",
              "    }\n",
              "\n",
              "    .dataframe thead th {\n",
              "        text-align: right;\n",
              "    }\n",
              "</style>\n",
              "<table border=\"1\" class=\"dataframe\">\n",
              "  <thead>\n",
              "    <tr style=\"text-align: right;\">\n",
              "      <th></th>\n",
              "      <th>scaled</th>\n",
              "      <th>raw</th>\n",
              "      <th>diff</th>\n",
              "    </tr>\n",
              "    <tr>\n",
              "      <th>K</th>\n",
              "      <th></th>\n",
              "      <th></th>\n",
              "      <th></th>\n",
              "    </tr>\n",
              "  </thead>\n",
              "  <tbody>\n",
              "    <tr>\n",
              "      <th>2</th>\n",
              "      <td>7.118897e+06</td>\n",
              "      <td>7.735347e+06</td>\n",
              "      <td>-616449.311321</td>\n",
              "    </tr>\n",
              "    <tr>\n",
              "      <th>3</th>\n",
              "      <td>7.047953e+06</td>\n",
              "      <td>7.450483e+06</td>\n",
              "      <td>-402530.710682</td>\n",
              "    </tr>\n",
              "    <tr>\n",
              "      <th>4</th>\n",
              "      <td>7.144857e+06</td>\n",
              "      <td>7.308990e+06</td>\n",
              "      <td>-164132.992955</td>\n",
              "    </tr>\n",
              "    <tr>\n",
              "      <th>5</th>\n",
              "      <td>7.305847e+06</td>\n",
              "      <td>7.268670e+06</td>\n",
              "      <td>37176.337714</td>\n",
              "    </tr>\n",
              "    <tr>\n",
              "      <th>6</th>\n",
              "      <td>7.367586e+06</td>\n",
              "      <td>7.350424e+06</td>\n",
              "      <td>17161.913825</td>\n",
              "    </tr>\n",
              "    <tr>\n",
              "      <th>7</th>\n",
              "      <td>7.340558e+06</td>\n",
              "      <td>7.364809e+06</td>\n",
              "      <td>-24251.081574</td>\n",
              "    </tr>\n",
              "    <tr>\n",
              "      <th>8</th>\n",
              "      <td>7.178778e+06</td>\n",
              "      <td>7.495104e+06</td>\n",
              "      <td>-316325.686816</td>\n",
              "    </tr>\n",
              "    <tr>\n",
              "      <th>9</th>\n",
              "      <td>7.255124e+06</td>\n",
              "      <td>7.458473e+06</td>\n",
              "      <td>-203348.909039</td>\n",
              "    </tr>\n",
              "    <tr>\n",
              "      <th>10</th>\n",
              "      <td>7.299954e+06</td>\n",
              "      <td>7.537303e+06</td>\n",
              "      <td>-237348.735949</td>\n",
              "    </tr>\n",
              "  </tbody>\n",
              "</table>\n",
              "</div>"
            ],
            "text/plain": [
              "          scaled           raw           diff\n",
              "K                                            \n",
              "2   7.118897e+06  7.735347e+06 -616449.311321\n",
              "3   7.047953e+06  7.450483e+06 -402530.710682\n",
              "4   7.144857e+06  7.308990e+06 -164132.992955\n",
              "5   7.305847e+06  7.268670e+06   37176.337714\n",
              "6   7.367586e+06  7.350424e+06   17161.913825\n",
              "7   7.340558e+06  7.364809e+06  -24251.081574\n",
              "8   7.178778e+06  7.495104e+06 -316325.686816\n",
              "9   7.255124e+06  7.458473e+06 -203348.909039\n",
              "10  7.299954e+06  7.537303e+06 -237348.735949"
            ]
          },
          "metadata": {
            "tags": []
          },
          "execution_count": 290
        }
      ]
    },
    {
      "cell_type": "markdown",
      "metadata": {
        "id": "2UH7XH5CK-QI",
        "colab_type": "text"
      },
      "source": [
        "## 지금까지 정리\n",
        "\n",
        "- 2016년~2017년 2년짜리 Back Testing\n",
        "- 6개월로 임베딩 및 Rescale Factor 산정하고, 이후 3개월 동안 매일매일 Top K개 주식 시가에 구매, 종가에 판매, 0.3% 수수료 포함\n",
        "- Corr 기준, Loss = |c*rho - 1|x||v_i - v_j||, K=5가 가장 좋은 성능"
      ]
    },
    {
      "cell_type": "code",
      "metadata": {
        "id": "hGOh4PKoK6u_",
        "colab_type": "code",
        "colab": {}
      },
      "source": [
        ""
      ],
      "execution_count": null,
      "outputs": []
    },
    {
      "cell_type": "code",
      "metadata": {
        "id": "nfoYRO1oLopE",
        "colab_type": "code",
        "colab": {}
      },
      "source": [
        ""
      ],
      "execution_count": null,
      "outputs": []
    },
    {
      "cell_type": "code",
      "metadata": {
        "id": "YoAlxH9uLomW",
        "colab_type": "code",
        "colab": {}
      },
      "source": [
        ""
      ],
      "execution_count": null,
      "outputs": []
    },
    {
      "cell_type": "code",
      "metadata": {
        "id": "zuDUKUkZLokB",
        "colab_type": "code",
        "colab": {}
      },
      "source": [
        ""
      ],
      "execution_count": null,
      "outputs": []
    },
    {
      "cell_type": "code",
      "metadata": {
        "id": "VQUXzNAaK6tU",
        "colab_type": "code",
        "colab": {}
      },
      "source": [
        ""
      ],
      "execution_count": null,
      "outputs": []
    },
    {
      "cell_type": "code",
      "metadata": {
        "id": "UgbXlHjjK6p4",
        "colab_type": "code",
        "colab": {}
      },
      "source": [
        ""
      ],
      "execution_count": null,
      "outputs": []
    },
    {
      "cell_type": "code",
      "metadata": {
        "id": "E2kj5IU4UFvK",
        "colab_type": "code",
        "colab": {}
      },
      "source": [
        "def backtest(data=data, corr_df=df, indicator='EMA', start=1, end=121, window=62, embeddings=embeddings):\n",
        "    cap = 1e7\n",
        "    base_cap = 1e7\n",
        "    a,b = [1e7], [1e7]\n",
        "\n",
        "    train_df = preprocessing(data=data, corr_df=corr_df, start=start, end=end)\n",
        "    rescale_fc = rescale_factor(indicator=indicator, data=train_df, embeddings=embeddings, n_epochs=80, lr=0.05)\n",
        "\n",
        "    first_term = preprocessing(data=data, corr_df=corr_df, start=start, end=end+window)\n",
        "\n",
        "    for day in range(end, end+window-1):\n",
        "\n",
        "        base_top10 = np.array(first_term[first_term['date_index']==day][indicator]).T.argsort()[-10:][::-1]\n",
        "        base_top10_close = first_term[first_term['date_index']==day+1].iloc[base_top10, :]['closing_price']\n",
        "        base_top10_open = first_term[first_term['date_index']==day+1].iloc[base_top10, :]['opening_price']\n",
        "        base_cap += ((base_top10_close*0.997 - base_top10_open)/base_top10_open*0.1*base_cap).sum()\n",
        "        a.append(base_cap)\n",
        "\n",
        "        #Parallel Universe\n",
        "        temp = rescale_fc.detach().numpy() * np.array(first_term[first_term['date_index']==day][indicator]).T # elementwise\n",
        "        top10 = temp.squeeze().argsort()[-10:][::-1]\n",
        "        top10_close = first_term[first_term['date_index']==day+1].iloc[top10, :]['closing_price']\n",
        "        top10_open = first_term[first_term['date_index']==day+1].iloc[top10, :]['opening_price']\n",
        "        # print((top10_close*0.997 - top10_open)/top10_open*0.1*cap)\n",
        "        cap += ((top10_close*0.997 - top10_open)/top10_open*0.1*cap).sum()\n",
        "        b.append(cap)\n",
        "\n",
        "\n",
        "        if base_cap * cap < 0:\n",
        "            print(\"Someone went bankrupt\")\n",
        "            break\n",
        "\n",
        "    return a,b\n",
        "\n",
        "# 121일 까지로 embedding, weights 학습\n",
        "# 122알~183일까지 각 rescaled indicator 값 구함\n",
        "# 그날그날 가장 높은 값을 보이는 k 개 종목 시가로 구입, 종가로 매각\n",
        "# 62일동안 이 작업 진행"
      ],
      "execution_count": 218,
      "outputs": []
    },
    {
      "cell_type": "code",
      "metadata": {
        "id": "XwsCdYu1p1Sj",
        "colab_type": "code",
        "colab": {}
      },
      "source": [
        "st = 432\n",
        "ed = 550"
      ],
      "execution_count": 231,
      "outputs": []
    },
    {
      "cell_type": "code",
      "metadata": {
        "id": "2XsZphd5EhOK",
        "colab_type": "code",
        "colab": {
          "base_uri": "https://localhost:8080/",
          "height": 143
        },
        "outputId": "8dc97207-55a4-4044-ec0c-a5bc45cc3350"
      },
      "source": [
        "j, k, = 0, 0\n",
        "e = 5\n",
        "for _ in range(e):\n",
        "    s, t = backtest(data=data, corr_df=df, indicator='EMA', start=st, end=ed, window=62, embeddings=embeddings)\n",
        "    j += s[-1]\n",
        "    k += t[-1]\n",
        "print(\"3개월 후 투자실적: Raw: {0:.2f} // Scaled: {1:.2f}\".format(j/e, k/e))\n",
        "\n",
        "j, k, = 0, 0\n",
        "e = 5\n",
        "for _ in range(e):\n",
        "    s, t = backtest(data=data, corr_df=df, indicator='MACD', start=st, end=ed, window=62, embeddings=embeddings)\n",
        "    j += s[-1]\n",
        "    k += t[-1]\n",
        "print(\"3개월 후 투자실적: Raw: {0:.2f} // Scaled: {1:.2f}\".format(j/e, k/e))\n",
        "\n",
        "j, k, = 0, 0\n",
        "# e = 10\n",
        "for _ in range(e):\n",
        "    s, t = backtest(data=data, corr_df=df, indicator='KLength', start=st, end=ed, window=62, embeddings=embeddings)\n",
        "    j += s[-1]\n",
        "    k += t[-1]\n",
        "print(\"3개월 후 투자실적: Raw: {0:.2f} // Scaled: {1:.2f}\".format(j/e, k/e))\n",
        "\n",
        "j, k, = 0, 0\n",
        "# e = 10\n",
        "for _ in range(e):\n",
        "    s, t = backtest(data=data, corr_df=df, indicator='KUpperLength', start=st, end=ed, window=62, embeddings=embeddings)\n",
        "    j += s[-1]\n",
        "    k += t[-1]\n",
        "print(\"3개월 후 투자실적: Raw: {0:.2f} // Scaled: {1:.2f}\".format(j/e, k/e))\n",
        "\n",
        "j, k, = 0, 0\n",
        "# e = 10\n",
        "for _ in range(e):\n",
        "    s, t = backtest(data=data, corr_df=df, indicator='KLowerLength', start=st, end=ed, window=62, embeddings=embeddings)\n",
        "    j += s[-1]\n",
        "    k += t[-1]\n",
        "print(\"3개월 후 투자실적: Raw: {0:.2f} // Scaled: {1:.2f}\".format(j/e, k/e))\n",
        "\n",
        "j, k, = 0, 0\n",
        "# e = 10\n",
        "for _ in range(e):\n",
        "    s, t = backtest(data=data, corr_df=df, indicator='ROC', start=st, end=ed, window=62, embeddings=embeddings)\n",
        "    j += s[-1]\n",
        "    k += t[-1]\n",
        "print(\"3개월 후 투자실적: Raw: {0:.2f} // Scaled: {1:.2f}\".format(j/e, k/e))\n",
        "\n",
        "j, k, = 0, 0\n",
        "# e = 10\n",
        "for _ in range(e):\n",
        "    s, t = backtest(data=data, corr_df=df, indicator='BIAS', start=st, end=ed, window=62, embeddings=embeddings)\n",
        "    j += s[-1]\n",
        "    k += t[-1]\n",
        "print(\"3개월 후 투자실적: Raw: {0:.2f} // Scaled: {1:.2f}\".format(j/e, k/e))"
      ],
      "execution_count": 232,
      "outputs": [
        {
          "output_type": "stream",
          "text": [
            "3개월 후 투자실적: Raw: 8387658.63 // Scaled: 8787399.35\n",
            "3개월 후 투자실적: Raw: 8888402.38 // Scaled: 9134411.18\n",
            "3개월 후 투자실적: Raw: 5839164.55 // Scaled: 5961182.57\n",
            "3개월 후 투자실적: Raw: 7188937.84 // Scaled: 7475994.46\n",
            "3개월 후 투자실적: Raw: 9082560.39 // Scaled: 7382440.25\n",
            "3개월 후 투자실적: Raw: 7399483.91 // Scaled: 6973793.80\n",
            "3개월 후 투자실적: Raw: 6149630.81 // Scaled: 7229333.69\n"
          ],
          "name": "stdout"
        }
      ]
    },
    {
      "cell_type": "code",
      "metadata": {
        "id": "5LFrJX7_v_rg",
        "colab_type": "code",
        "colab": {
          "base_uri": "https://localhost:8080/",
          "height": 553
        },
        "outputId": "14dc2d65-c2c7-466f-9c7b-a67abec80065"
      },
      "source": [
        "plt.figure(figsize=(16,9))\n",
        "plt.plot(list(range(62)), s, color='k')\n",
        "plt.plot(list(range(62)), t, color='red')\n",
        "plt.title(\"Investment Simulation on 3 months\")\n",
        "plt.show()"
      ],
      "execution_count": 168,
      "outputs": [
        {
          "output_type": "display_data",
          "data": {
            "image/png": "[encoded data removed]",
            "text/plain": [
              "<Figure size 1152x648 with 1 Axes>"
            ]
          },
          "metadata": {
            "tags": [],
            "needs_background": "light"
          }
        }
      ]
    },
    {
      "cell_type": "code",
      "metadata": {
        "id": "UgG6cjTk15t7",
        "colab_type": "code",
        "colab": {}
      },
      "source": [
        ""
      ],
      "execution_count": 168,
      "outputs": []
    }
  ]
}