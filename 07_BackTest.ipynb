{
  "nbformat": 4,
  "nbformat_minor": 0,
  "metadata": {
    "colab": {
      "name": "07_BackTest.ipynb",
      "provenance": [],
      "collapsed_sections": [],
      "toc_visible": true,
      "authorship_tag": "ABX9TyPsGVHwiSQiPvgJGYzkACUa",
      "include_colab_link": true
    },
    "kernelspec": {
      "name": "python3",
      "display_name": "Python 3"
    }
  },
  "cells": [
    {
      "cell_type": "markdown",
      "metadata": {
        "id": "view-in-github",
        "colab_type": "text"
      },
      "source": [
        "<a href=\"https://colab.research.google.com/github/reyllama/TTIO/blob/master/07_BackTest.ipynb\" target=\"_parent\"><img src=\"https://colab.research.google.com/assets/colab-badge.svg\" alt=\"Open In Colab\"/></a>"
      ]
    },
    {
      "cell_type": "markdown",
      "metadata": {
        "id": "cUnpa4I5D7GW",
        "colab_type": "text"
      },
      "source": [
        "## Modulate"
      ]
    },
    {
      "cell_type": "code",
      "metadata": {
        "id": "sfB_Q8_TvM_k",
        "colab_type": "code",
        "colab": {
          "base_uri": "https://localhost:8080/",
          "height": 127
        },
        "outputId": "b221e5e1-daab-41b0-92e4-b0dfc2d7ff19"
      },
      "source": [
        "import pandas as pd\n",
        "import numpy as np\n",
        "import matplotlib.pyplot as plt\n",
        "import torch\n",
        "from torch import nn, optim\n",
        "from torch.autograd import Variable\n",
        "from google.colab import drive\n",
        "drive.mount('/content/drive')"
      ],
      "execution_count": 1,
      "outputs": [
        {
          "output_type": "stream",
          "text": [
            "Go to this URL in a browser: https://accounts.google.com/o/oauth2/auth?client_id=947318989803-6bn6qk8qdgf4n4g3pfee6491hc0brc4i.apps.googleusercontent.com&redirect_uri=urn%3aietf%3awg%3aoauth%3a2.0%3aoob&response_type=code&scope=email%20https%3a%2f%2fwww.googleapis.com%2fauth%2fdocs.test%20https%3a%2f%2fwww.googleapis.com%2fauth%2fdrive%20https%3a%2f%2fwww.googleapis.com%2fauth%2fdrive.photos.readonly%20https%3a%2f%2fwww.googleapis.com%2fauth%2fpeopleapi.readonly\n",
            "\n",
            "Enter your authorization code:\n",
            "··········\n",
            "Mounted at /content/drive\n"
          ],
          "name": "stdout"
        }
      ]
    },
    {
      "cell_type": "code",
      "metadata": {
        "id": "cBXBqEbsb3Jr",
        "colab_type": "code",
        "colab": {}
      },
      "source": [
        "data = pd.read_csv(\"/content/drive/My Drive/core_stocks.csv\", dtype={'stock_id': str})\n",
        "data['stock_id'] = data['stock_id'].astype(str)"
      ],
      "execution_count": 2,
      "outputs": []
    },
    {
      "cell_type": "code",
      "metadata": {
        "id": "BCkp8SYZYqv2",
        "colab_type": "code",
        "colab": {}
      },
      "source": [
        "def data_preparer(n=1, n_epochs=120, lr=0.05, silent=False, corr=True):\n",
        "    if corr:\n",
        "        path = \"/content/drive/My Drive/corr{0}.csv\".format(n)\n",
        "    if not corr:\n",
        "        path = \"/content/drive/My Drive/cov{0}.csv\".format(n)\n",
        "    df = pd.read_csv(path)\n",
        "    df = df.set_index(keys='stock_id')\n",
        "    df.columns = df.columns.astype(str)\n",
        "    df.index = df.index.astype(str)\n",
        "\n",
        "    if n==1:\n",
        "        st, ed = 1, 121\n",
        "    elif n==2:\n",
        "        st, ed = 62, 186\n",
        "    elif n==3:\n",
        "        st, ed=124,248\n",
        "    elif n==4:\n",
        "        st, ed=186,310\n",
        "    elif n==5:\n",
        "        st, ed=248, 368\n",
        "    elif n==6:\n",
        "        st, ed=310, 432\n",
        "    elif n==7:\n",
        "        st, ed=368,489\n",
        "    elif n==8:\n",
        "        st, ed=432, 550\n",
        "    else:\n",
        "        print(\"Too Big A Number\")\n",
        "        return None\n",
        "\n",
        "    embeddings = get_embeddings(corr_df=df, n_epochs=n_epochs, lr=lr, silent=silent)\n",
        "\n",
        "    return df, embeddings, st, ed"
      ],
      "execution_count": 14,
      "outputs": []
    },
    {
      "cell_type": "code",
      "metadata": {
        "id": "Efvsw-v28vMp",
        "colab_type": "code",
        "colab": {}
      },
      "source": [
        "def get_embeddings(corr_df=None, n_epochs=100, dim=32, lr=0.01, silent=False):\n",
        "  dtype = torch.FloatTensor\n",
        "  epochs = n_epochs\n",
        "  emb_dim = dim\n",
        "  embeddings = Variable(torch.randn(emb_dim, len(corr_df)).type(dtype), requires_grad=True)\n",
        "  lr = lr\n",
        "  optimizer = optim.Adam([embeddings], lr=lr)\n",
        "  mean = np.abs(corr_df).mean().mean()\n",
        "  coef = 1/mean # Hyper Parameter 변경\n",
        "  loss_track = []\n",
        "\n",
        "  for epoch in range(epochs):\n",
        "    loss = 0\n",
        "    for i in range(len(corr_df)):\n",
        "      v1 = embeddings[:, i].view(emb_dim, -1)\n",
        "      dist = torch.norm(v1 - embeddings, dim=0).view(len(corr_df), 1)\n",
        "      corrs = torch.from_numpy(np.abs(coef*np.array(corr_df.iloc[:, i]))-1).view(1, len(corr_df)).type(torch.FloatTensor)\n",
        "    #   corrs = torch.from_numpy(np.array(df.iloc[:, i])).view(1, len(df)).type(torch.FloatTensor) # rho 교수님 버전\n",
        "      loss += torch.mm(corrs, dist)/2\n",
        "\n",
        "    #   v1 = embeddings[:, i].view(-1, emb_dim)\n",
        "    #   mm = torch.mm(v1, embeddings)\n",
        "    #   mm[:, i] = torch.zeros(1) # 자기 자신과의 dot product은 0으로 만들어줌. 그렇지 않으면 각각이 다 0 벡터가 될 우려\n",
        "    #   corrs = torch.from_numpy(coef*np.array(df.iloc[:, i])).view(len(df), 1).type(torch.FloatTensor)\n",
        "    #   loss += torch.mm(mm, corrs)\n",
        "\n",
        "    loss_track.append(loss.item())\n",
        "    if not silent:\n",
        "        if (epoch+1) % 20 == 0:\n",
        "            print(\"{0}th epoch in process\".format(epoch+1))\n",
        "            print('running loss: {}'.format(loss.item()))\n",
        "            print()\n",
        "\n",
        "    optimizer.zero_grad()\n",
        "    loss.backward(retain_graph=False)\n",
        "    optimizer.step()\n",
        "\n",
        "    with torch.no_grad():\n",
        "      for element in embeddings:\n",
        "        element.clamp_(0,1)\n",
        "\n",
        "  return embeddings"
      ],
      "execution_count": 23,
      "outputs": []
    },
    {
      "cell_type": "code",
      "metadata": {
        "id": "TWttcuW_CSmi",
        "colab_type": "code",
        "colab": {
          "base_uri": "https://localhost:8080/",
          "height": 269
        },
        "outputId": "30830f6a-7c61-416b-f18d-0d9f64c9cf88"
      },
      "source": [
        "!pip install ta\n",
        "import ta\n",
        "\n",
        "def bias(close=None, m=7):\n",
        "  return close - close.rolling(m).mean()\n",
        "\n",
        "def preprocessing(data=data, start=125, end=125+62, corr_df = None):\n",
        "\n",
        "  data['stock_id'] = data['stock_id'].astype(str)\n",
        "  data['year'] = data['date'].apply(lambda x: int(x[0:4]))\n",
        "  data['month'] = data['date'].apply(lambda x: int(x[5:7]))\n",
        "\n",
        "  data = data[(data['date_index']<=end)&(data['date_index']>=start)]\n",
        "  data = data[data['stock_id'].isin(df.columns)]\n",
        "\n",
        "  data['KLength'] = data['closing_price'] - data['opening_price']\n",
        "  data['KUpperLength'] = data['highest_price'] - data[['opening_price', 'closing_price']].max(axis=1)\n",
        "  data['temp'] = data['opening_price']-data['lowest_price']\n",
        "  data['KLowerLength'] = data[['closing_price', 'temp']].min(axis=1)\n",
        "  data['return'] = data['closing_price'].diff()\n",
        "  data = data.drop(columns=['temp'])\n",
        "\n",
        "  data['EMA'] = ta.trend.ema_indicator(close=data['closing_price'])\n",
        "  data['MACD'] = ta.trend.macd(close=data['closing_price'])\n",
        "  data['ROC'] = ta.momentum.roc(close=data['closing_price'])\n",
        "  data['BIAS'] = bias(data['closing_price'])\n",
        "  \n",
        "\n",
        "  return data"
      ],
      "execution_count": 7,
      "outputs": [
        {
          "output_type": "stream",
          "text": [
            "Collecting ta\n",
            "  Downloading https://files.pythonhosted.org/packages/90/ec/e4f5aea8c7f0f55f92b52ffbafa389ea82f3a10d9cab2760e40af34c5b3f/ta-0.5.25.tar.gz\n",
            "Requirement already satisfied: numpy in /usr/local/lib/python3.6/dist-packages (from ta) (1.18.5)\n",
            "Requirement already satisfied: pandas in /usr/local/lib/python3.6/dist-packages (from ta) (1.0.5)\n",
            "Requirement already satisfied: python-dateutil>=2.6.1 in /usr/local/lib/python3.6/dist-packages (from pandas->ta) (2.8.1)\n",
            "Requirement already satisfied: pytz>=2017.2 in /usr/local/lib/python3.6/dist-packages (from pandas->ta) (2018.9)\n",
            "Requirement already satisfied: six>=1.5 in /usr/local/lib/python3.6/dist-packages (from python-dateutil>=2.6.1->pandas->ta) (1.12.0)\n",
            "Building wheels for collected packages: ta\n",
            "  Building wheel for ta (setup.py) ... \u001b[?25l\u001b[?25hdone\n",
            "  Created wheel for ta: filename=ta-0.5.25-cp36-none-any.whl size=24880 sha256=d5a532cd88e28ca3b60e9fd0d4477db79dc7afb6aa7fa585f234b0d044290063\n",
            "  Stored in directory: /root/.cache/pip/wheels/2e/93/b7/cf649194508e53cee4145ffb949e9f26877a5a8dd12db9ed5b\n",
            "Successfully built ta\n",
            "Installing collected packages: ta\n",
            "Successfully installed ta-0.5.25\n"
          ],
          "name": "stdout"
        }
      ]
    },
    {
      "cell_type": "code",
      "metadata": {
        "id": "Zi6SG9chCSjN",
        "colab_type": "code",
        "colab": {}
      },
      "source": [
        "def rescale_factor(train_data=None, valid_data=None, indicator='KLength', lr=0.005, n_epochs=3000, embeddings=None):\n",
        "    KL = train_data.pivot(index='date', columns='stock_id', values=indicator)\n",
        "    R = train_data.pivot(index='date', columns='stock_id', values='return')\n",
        "    v1 = valid_data.pivot(index='date', columns='stock_id', values=indicator)\n",
        "    v2 = valid_data.pivot(index='date', columns='stock_id', values='return')\n",
        "\n",
        "    if indicator in ['KLength', 'KUpperLength', 'KLowerLength']:\n",
        "        KL = KL.iloc[:-1, ]\n",
        "        R = R.iloc[1:, ]\n",
        "        v1 = v1.iloc[:-1, ]\n",
        "        v2 = v2.iloc[1:, ]\n",
        "    elif indicator == 'EMA':\n",
        "        KL = KL.iloc[11:-1, ]\n",
        "        R = R.iloc[12:, ]\n",
        "        v1 = v1.iloc[11:-1, ]\n",
        "        v2 = v2.iloc[12:, ]\n",
        "    elif indicator == 'MACD':\n",
        "        KL = KL.iloc[25:-1, ]\n",
        "        R = R.iloc[26:, ]\n",
        "        v1 = v1.iloc[25:-1, ]\n",
        "        v2 = v2.iloc[26:, ]\n",
        "    elif indicator == 'ROC':\n",
        "        KL = KL.iloc[12:-1, ]\n",
        "        R = R.iloc[13:, ]\n",
        "        v1 = v1.iloc[12:-1, ]\n",
        "        v2 = v2.iloc[13:, ]\n",
        "    elif indicator == 'BIAS':\n",
        "        KL = KL.iloc[6:-1, ]\n",
        "        R = R.iloc[7:, ]\n",
        "        v1 = v1.iloc[6:-1, ]\n",
        "        v2 = v2.iloc[7:, ]\n",
        "    else:\n",
        "        print('Unknown Indicator!')\n",
        "        return None\n",
        "\n",
        "    dtype = torch.FloatTensor\n",
        "    weights = Variable(torch.randn(1, 32).type(dtype), requires_grad=True)\n",
        "    lr = lr\n",
        "    optimizer = optim.Adam([weights], lr=lr)\n",
        "    epochs = n_epochs\n",
        "    indic = np.array(KL)\n",
        "    returns = np.array(R)\n",
        "    v_ind = np.array(v1)\n",
        "    v_ret = np.array(v2)\n",
        "    base_loss = np.Inf\n",
        "    final_factor = None\n",
        "\n",
        "    for epoch in range(epochs):\n",
        "        loss = 0\n",
        "\n",
        "        rescale_fc = torch.exp(torch.mm(weights, embeddings)) / torch.sum(torch.exp(torch.mm(weights, embeddings)))\n",
        "        opt_ind = torch.from_numpy(indic) * rescale_fc # element-wise\n",
        "        mean_ind = torch.mean(opt_ind, axis=0)\n",
        "        mean_ret = torch.mean(torch.from_numpy(returns), axis=0)\n",
        "\n",
        "        vx = opt_ind - mean_ind\n",
        "        vy = torch.from_numpy(returns) - mean_ret\n",
        "        loss = -torch.abs(torch.sum(vx * vy) / (torch.sqrt(torch.sum(vx ** 2)) * torch.sqrt(torch.sum(vy ** 2))))\n",
        "\n",
        "        if (epoch+1) % 1000 == 0:\n",
        "            print(\"{0}th epoch in process\".format(epoch+1))\n",
        "\n",
        "        optimizer.zero_grad()\n",
        "        loss.backward(retain_graph=False)\n",
        "        optimizer.step()\n",
        "\n",
        "##### 이부분 Indentation 당겼더니 성능 좋았음 #############\n",
        "\n",
        "        with torch.no_grad():\n",
        "\n",
        "            # for weight in weights:\n",
        "            #     weight.clamp_(0,1)\n",
        "\n",
        "            v_opt = (torch.from_numpy(v_ind) * rescale_fc).detach().numpy()\n",
        "            v_mean_ind = np.mean(v_opt, axis=0)\n",
        "            v_mean_ret = np.mean(v_ret, axis=0)\n",
        "            ux = v_opt - v_mean_ind\n",
        "            uy = v_ret - v_mean_ret\n",
        "            v_loss = -np.abs(np.sum(ux * uy) / (np.sqrt(np.sum(ux ** 2)) * np.sqrt(np.sum(uy ** 2))))\n",
        "            if v_loss < base_loss:\n",
        "                base_loss = v_loss\n",
        "                final_factor = rescale_fc\n",
        "\n",
        "#############################################################\n",
        "\n",
        "    return final_factor"
      ],
      "execution_count": 67,
      "outputs": []
    },
    {
      "cell_type": "code",
      "metadata": {
        "id": "tePrZv-HYqtR",
        "colab_type": "code",
        "colab": {}
      },
      "source": [
        "def K_selector(data=None, corr_df=None, start=None, end=None, window=62, embeddings=None, e=5, silent=False):\n",
        "    from collections import defaultdict\n",
        "    train_df = preprocessing(data=data, corr_df=corr_df, start=start, end=end)\n",
        "    valid_df = preprocessing(data=data, corr_df=corr_df, start=end+1, end=end+window)\n",
        "    # test_df = preprocessing(data=data, corr_df=corr_df, start=end+window+1, end=end+2*window)\n",
        "    first_term = pd.concat([train_df, valid_df])\n",
        "    indicators=['EMA', 'MACD', 'KLength', 'KUpperLength', 'KLowerLength', 'ROC', 'BIAS']\n",
        "    result = defaultdict(list)\n",
        "\n",
        "    for k in range(2, 11): # Selecting Top K\n",
        "\n",
        "        for indicator in indicators: # Out of 7 Indicators\n",
        "\n",
        "            j, s, = 0, 0 # To average the results\n",
        "            rescale_fc = rescale_factor(indicator=indicator, train_data=train_df, valid_data=valid_df, embeddings=embeddings, n_epochs=80, lr=0.05)\n",
        "\n",
        "            for _ in range(e): # Number of backtests to conduct, averaging out later\n",
        "\n",
        "                cap = 1e7 # Seed Capital\n",
        "                base_cap = 1e7\n",
        "                a,b = [1e7], [1e7] # Trajectory of capital possession\n",
        "\n",
        "                for day in range(end, end+window-1):\n",
        "\n",
        "                    base_top10 = np.array(first_term[first_term['date_index']==day][indicator]).T.argsort()[-k:][::-1]\n",
        "                    base_top10_close = first_term[first_term['date_index']==day+1].iloc[base_top10, :]['closing_price']\n",
        "                    base_top10_open = first_term[first_term['date_index']==day+1].iloc[base_top10, :]['opening_price']\n",
        "                    base_cap += ((base_top10_close*0.997 - base_top10_open)/base_top10_open*base_cap/k).sum()\n",
        "                    a.append(base_cap)\n",
        "\n",
        "                    #Parallel Universe\n",
        "                    temp = rescale_fc.detach().numpy() * np.array(first_term[first_term['date_index']==day][indicator]).T # elementwise\n",
        "                    top10 = temp.squeeze().argsort()[-k:][::-1]\n",
        "                    top10_close = first_term[first_term['date_index']==day+1].iloc[top10, :]['closing_price']\n",
        "                    top10_open = first_term[first_term['date_index']==day+1].iloc[top10, :]['opening_price']\n",
        "                    # print((top10_close*0.997 - top10_open)/top10_open*0.1*cap)\n",
        "                    cap += ((top10_close*0.997 - top10_open)/top10_open*cap/k).sum()\n",
        "                    b.append(cap)\n",
        "\n",
        "                j += a[-1]\n",
        "                s += b[-1]\n",
        "            if not silent:\n",
        "                print(\"Top {0} 기준 Raw 수익과 Rescaled 수익은 각각 {2:.2f} // {3:.2f} ({1})\".format(k, indicator, j/e, s/e))\n",
        "\n",
        "            result['K'].append(k)\n",
        "            result['indicator'].append(indicator)\n",
        "            result['raw'].append(j/e)\n",
        "            result['scaled'].append(s/e)\n",
        "\n",
        "    return result"
      ],
      "execution_count": 68,
      "outputs": []
    },
    {
      "cell_type": "code",
      "metadata": {
        "id": "VT5y3sI9mHip",
        "colab_type": "code",
        "colab": {
          "base_uri": "https://localhost:8080/",
          "height": 49
        },
        "outputId": "b947e7be-e2a5-4443-8fb5-b9f6af0271ed"
      },
      "source": [
        "output = pd.DataFrame(columns=['K', 'indicator', 'raw', 'scaled'])\n",
        "output"
      ],
      "execution_count": 69,
      "outputs": [
        {
          "output_type": "execute_result",
          "data": {
            "text/html": [
              "<div>\n",
              "<style scoped>\n",
              "    .dataframe tbody tr th:only-of-type {\n",
              "        vertical-align: middle;\n",
              "    }\n",
              "\n",
              "    .dataframe tbody tr th {\n",
              "        vertical-align: top;\n",
              "    }\n",
              "\n",
              "    .dataframe thead th {\n",
              "        text-align: right;\n",
              "    }\n",
              "</style>\n",
              "<table border=\"1\" class=\"dataframe\">\n",
              "  <thead>\n",
              "    <tr style=\"text-align: right;\">\n",
              "      <th></th>\n",
              "      <th>K</th>\n",
              "      <th>indicator</th>\n",
              "      <th>raw</th>\n",
              "      <th>scaled</th>\n",
              "    </tr>\n",
              "  </thead>\n",
              "  <tbody>\n",
              "  </tbody>\n",
              "</table>\n",
              "</div>"
            ],
            "text/plain": [
              "Empty DataFrame\n",
              "Columns: [K, indicator, raw, scaled]\n",
              "Index: []"
            ]
          },
          "metadata": {
            "tags": []
          },
          "execution_count": 69
        }
      ]
    },
    {
      "cell_type": "code",
      "metadata": {
        "id": "-4NxlLxRYqrX",
        "colab_type": "code",
        "colab": {
          "base_uri": "https://localhost:8080/",
          "height": 707
        },
        "outputId": "23384a59-e953-49ff-9a4d-9a9e62e881fe"
      },
      "source": [
        "for n_ in range(1, 9):\n",
        "\n",
        "    df, embeddings, st, ed = data_preparer(n=n_, n_epochs=100, lr=0.05, silent=True, corr=True)\n",
        "    result_dict = K_selector(data=data, corr_df=df, start=st, end=ed, window=62, embeddings=embeddings, e=15, silent=True)\n",
        "    output = pd.concat([output, pd.DataFrame(data=result_dict)])\n",
        "output"
      ],
      "execution_count": 70,
      "outputs": [
        {
          "output_type": "stream",
          "text": [
            "/usr/local/lib/python3.6/dist-packages/IPython/core/interactiveshell.py:2822: DtypeWarning: Columns (0) have mixed types.Specify dtype option on import or set low_memory=False.\n",
            "  if self.run_code(code, result):\n",
            "/usr/local/lib/python3.6/dist-packages/IPython/core/interactiveshell.py:2822: DtypeWarning: Columns (0) have mixed types.Specify dtype option on import or set low_memory=False.\n",
            "  if self.run_code(code, result):\n",
            "/usr/local/lib/python3.6/dist-packages/IPython/core/interactiveshell.py:2822: DtypeWarning: Columns (0) have mixed types.Specify dtype option on import or set low_memory=False.\n",
            "  if self.run_code(code, result):\n",
            "/usr/local/lib/python3.6/dist-packages/IPython/core/interactiveshell.py:2822: DtypeWarning: Columns (0) have mixed types.Specify dtype option on import or set low_memory=False.\n",
            "  if self.run_code(code, result):\n",
            "/usr/local/lib/python3.6/dist-packages/IPython/core/interactiveshell.py:2822: DtypeWarning: Columns (0) have mixed types.Specify dtype option on import or set low_memory=False.\n",
            "  if self.run_code(code, result):\n",
            "/usr/local/lib/python3.6/dist-packages/IPython/core/interactiveshell.py:2822: DtypeWarning: Columns (0) have mixed types.Specify dtype option on import or set low_memory=False.\n",
            "  if self.run_code(code, result):\n",
            "/usr/local/lib/python3.6/dist-packages/IPython/core/interactiveshell.py:2822: DtypeWarning: Columns (0) have mixed types.Specify dtype option on import or set low_memory=False.\n",
            "  if self.run_code(code, result):\n",
            "/usr/local/lib/python3.6/dist-packages/IPython/core/interactiveshell.py:2822: DtypeWarning: Columns (0) have mixed types.Specify dtype option on import or set low_memory=False.\n",
            "  if self.run_code(code, result):\n"
          ],
          "name": "stderr"
        },
        {
          "output_type": "execute_result",
          "data": {
            "text/html": [
              "<div>\n",
              "<style scoped>\n",
              "    .dataframe tbody tr th:only-of-type {\n",
              "        vertical-align: middle;\n",
              "    }\n",
              "\n",
              "    .dataframe tbody tr th {\n",
              "        vertical-align: top;\n",
              "    }\n",
              "\n",
              "    .dataframe thead th {\n",
              "        text-align: right;\n",
              "    }\n",
              "</style>\n",
              "<table border=\"1\" class=\"dataframe\">\n",
              "  <thead>\n",
              "    <tr style=\"text-align: right;\">\n",
              "      <th></th>\n",
              "      <th>K</th>\n",
              "      <th>indicator</th>\n",
              "      <th>raw</th>\n",
              "      <th>scaled</th>\n",
              "    </tr>\n",
              "  </thead>\n",
              "  <tbody>\n",
              "    <tr>\n",
              "      <th>0</th>\n",
              "      <td>2</td>\n",
              "      <td>EMA</td>\n",
              "      <td>9.376328e+06</td>\n",
              "      <td>9.635872e+06</td>\n",
              "    </tr>\n",
              "    <tr>\n",
              "      <th>1</th>\n",
              "      <td>2</td>\n",
              "      <td>MACD</td>\n",
              "      <td>8.362847e+06</td>\n",
              "      <td>8.060992e+06</td>\n",
              "    </tr>\n",
              "    <tr>\n",
              "      <th>2</th>\n",
              "      <td>2</td>\n",
              "      <td>KLength</td>\n",
              "      <td>7.920095e+06</td>\n",
              "      <td>7.667930e+06</td>\n",
              "    </tr>\n",
              "    <tr>\n",
              "      <th>3</th>\n",
              "      <td>2</td>\n",
              "      <td>KUpperLength</td>\n",
              "      <td>8.623466e+06</td>\n",
              "      <td>8.325243e+06</td>\n",
              "    </tr>\n",
              "    <tr>\n",
              "      <th>4</th>\n",
              "      <td>2</td>\n",
              "      <td>KLowerLength</td>\n",
              "      <td>7.611521e+06</td>\n",
              "      <td>6.198212e+06</td>\n",
              "    </tr>\n",
              "    <tr>\n",
              "      <th>...</th>\n",
              "      <td>...</td>\n",
              "      <td>...</td>\n",
              "      <td>...</td>\n",
              "      <td>...</td>\n",
              "    </tr>\n",
              "    <tr>\n",
              "      <th>58</th>\n",
              "      <td>10</td>\n",
              "      <td>KLength</td>\n",
              "      <td>5.839165e+06</td>\n",
              "      <td>6.034591e+06</td>\n",
              "    </tr>\n",
              "    <tr>\n",
              "      <th>59</th>\n",
              "      <td>10</td>\n",
              "      <td>KUpperLength</td>\n",
              "      <td>7.188938e+06</td>\n",
              "      <td>7.266113e+06</td>\n",
              "    </tr>\n",
              "    <tr>\n",
              "      <th>60</th>\n",
              "      <td>10</td>\n",
              "      <td>KLowerLength</td>\n",
              "      <td>9.082560e+06</td>\n",
              "      <td>7.704576e+06</td>\n",
              "    </tr>\n",
              "    <tr>\n",
              "      <th>61</th>\n",
              "      <td>10</td>\n",
              "      <td>ROC</td>\n",
              "      <td>7.916918e+06</td>\n",
              "      <td>7.470800e+06</td>\n",
              "    </tr>\n",
              "    <tr>\n",
              "      <th>62</th>\n",
              "      <td>10</td>\n",
              "      <td>BIAS</td>\n",
              "      <td>6.010436e+06</td>\n",
              "      <td>6.492803e+06</td>\n",
              "    </tr>\n",
              "  </tbody>\n",
              "</table>\n",
              "<p>504 rows × 4 columns</p>\n",
              "</div>"
            ],
            "text/plain": [
              "     K     indicator           raw        scaled\n",
              "0    2           EMA  9.376328e+06  9.635872e+06\n",
              "1    2          MACD  8.362847e+06  8.060992e+06\n",
              "2    2       KLength  7.920095e+06  7.667930e+06\n",
              "3    2  KUpperLength  8.623466e+06  8.325243e+06\n",
              "4    2  KLowerLength  7.611521e+06  6.198212e+06\n",
              "..  ..           ...           ...           ...\n",
              "58  10       KLength  5.839165e+06  6.034591e+06\n",
              "59  10  KUpperLength  7.188938e+06  7.266113e+06\n",
              "60  10  KLowerLength  9.082560e+06  7.704576e+06\n",
              "61  10           ROC  7.916918e+06  7.470800e+06\n",
              "62  10          BIAS  6.010436e+06  6.492803e+06\n",
              "\n",
              "[504 rows x 4 columns]"
            ]
          },
          "metadata": {
            "tags": []
          },
          "execution_count": 70
        }
      ]
    },
    {
      "cell_type": "code",
      "metadata": {
        "id": "wjm9QG2efM6d",
        "colab_type": "code",
        "colab": {}
      },
      "source": [
        "output.to_csv('corr_output.csv', index=False)"
      ],
      "execution_count": 71,
      "outputs": []
    },
    {
      "cell_type": "code",
      "metadata": {
        "id": "UTJN3NiCfM4M",
        "colab_type": "code",
        "colab": {
          "base_uri": "https://localhost:8080/",
          "height": 419
        },
        "outputId": "89cdcc03-2266-42b4-a407-d2533db4d28f"
      },
      "source": [
        "output = output.reset_index(drop=True)\n",
        "output"
      ],
      "execution_count": 72,
      "outputs": [
        {
          "output_type": "execute_result",
          "data": {
            "text/html": [
              "<div>\n",
              "<style scoped>\n",
              "    .dataframe tbody tr th:only-of-type {\n",
              "        vertical-align: middle;\n",
              "    }\n",
              "\n",
              "    .dataframe tbody tr th {\n",
              "        vertical-align: top;\n",
              "    }\n",
              "\n",
              "    .dataframe thead th {\n",
              "        text-align: right;\n",
              "    }\n",
              "</style>\n",
              "<table border=\"1\" class=\"dataframe\">\n",
              "  <thead>\n",
              "    <tr style=\"text-align: right;\">\n",
              "      <th></th>\n",
              "      <th>K</th>\n",
              "      <th>indicator</th>\n",
              "      <th>raw</th>\n",
              "      <th>scaled</th>\n",
              "    </tr>\n",
              "  </thead>\n",
              "  <tbody>\n",
              "    <tr>\n",
              "      <th>0</th>\n",
              "      <td>2</td>\n",
              "      <td>EMA</td>\n",
              "      <td>9.376328e+06</td>\n",
              "      <td>9.635872e+06</td>\n",
              "    </tr>\n",
              "    <tr>\n",
              "      <th>1</th>\n",
              "      <td>2</td>\n",
              "      <td>MACD</td>\n",
              "      <td>8.362847e+06</td>\n",
              "      <td>8.060992e+06</td>\n",
              "    </tr>\n",
              "    <tr>\n",
              "      <th>2</th>\n",
              "      <td>2</td>\n",
              "      <td>KLength</td>\n",
              "      <td>7.920095e+06</td>\n",
              "      <td>7.667930e+06</td>\n",
              "    </tr>\n",
              "    <tr>\n",
              "      <th>3</th>\n",
              "      <td>2</td>\n",
              "      <td>KUpperLength</td>\n",
              "      <td>8.623466e+06</td>\n",
              "      <td>8.325243e+06</td>\n",
              "    </tr>\n",
              "    <tr>\n",
              "      <th>4</th>\n",
              "      <td>2</td>\n",
              "      <td>KLowerLength</td>\n",
              "      <td>7.611521e+06</td>\n",
              "      <td>6.198212e+06</td>\n",
              "    </tr>\n",
              "    <tr>\n",
              "      <th>...</th>\n",
              "      <td>...</td>\n",
              "      <td>...</td>\n",
              "      <td>...</td>\n",
              "      <td>...</td>\n",
              "    </tr>\n",
              "    <tr>\n",
              "      <th>499</th>\n",
              "      <td>10</td>\n",
              "      <td>KLength</td>\n",
              "      <td>5.839165e+06</td>\n",
              "      <td>6.034591e+06</td>\n",
              "    </tr>\n",
              "    <tr>\n",
              "      <th>500</th>\n",
              "      <td>10</td>\n",
              "      <td>KUpperLength</td>\n",
              "      <td>7.188938e+06</td>\n",
              "      <td>7.266113e+06</td>\n",
              "    </tr>\n",
              "    <tr>\n",
              "      <th>501</th>\n",
              "      <td>10</td>\n",
              "      <td>KLowerLength</td>\n",
              "      <td>9.082560e+06</td>\n",
              "      <td>7.704576e+06</td>\n",
              "    </tr>\n",
              "    <tr>\n",
              "      <th>502</th>\n",
              "      <td>10</td>\n",
              "      <td>ROC</td>\n",
              "      <td>7.916918e+06</td>\n",
              "      <td>7.470800e+06</td>\n",
              "    </tr>\n",
              "    <tr>\n",
              "      <th>503</th>\n",
              "      <td>10</td>\n",
              "      <td>BIAS</td>\n",
              "      <td>6.010436e+06</td>\n",
              "      <td>6.492803e+06</td>\n",
              "    </tr>\n",
              "  </tbody>\n",
              "</table>\n",
              "<p>504 rows × 4 columns</p>\n",
              "</div>"
            ],
            "text/plain": [
              "      K     indicator           raw        scaled\n",
              "0     2           EMA  9.376328e+06  9.635872e+06\n",
              "1     2          MACD  8.362847e+06  8.060992e+06\n",
              "2     2       KLength  7.920095e+06  7.667930e+06\n",
              "3     2  KUpperLength  8.623466e+06  8.325243e+06\n",
              "4     2  KLowerLength  7.611521e+06  6.198212e+06\n",
              "..   ..           ...           ...           ...\n",
              "499  10       KLength  5.839165e+06  6.034591e+06\n",
              "500  10  KUpperLength  7.188938e+06  7.266113e+06\n",
              "501  10  KLowerLength  9.082560e+06  7.704576e+06\n",
              "502  10           ROC  7.916918e+06  7.470800e+06\n",
              "503  10          BIAS  6.010436e+06  6.492803e+06\n",
              "\n",
              "[504 rows x 4 columns]"
            ]
          },
          "metadata": {
            "tags": []
          },
          "execution_count": 72
        }
      ]
    },
    {
      "cell_type": "code",
      "metadata": {
        "id": "NGAkXkSFKcyL",
        "colab_type": "code",
        "colab": {}
      },
      "source": [
        "output['diff'] = output['scaled'] - output['raw']"
      ],
      "execution_count": 73,
      "outputs": []
    },
    {
      "cell_type": "code",
      "metadata": {
        "id": "v-7gPRYafM1W",
        "colab_type": "code",
        "colab": {
          "base_uri": "https://localhost:8080/",
          "height": 359
        },
        "outputId": "882d9259-9884-4ef5-9d7c-7f4664a61576"
      },
      "source": [
        "output.groupby('K')[['scaled', 'raw', 'diff']].mean()"
      ],
      "execution_count": 74,
      "outputs": [
        {
          "output_type": "execute_result",
          "data": {
            "text/html": [
              "<div>\n",
              "<style scoped>\n",
              "    .dataframe tbody tr th:only-of-type {\n",
              "        vertical-align: middle;\n",
              "    }\n",
              "\n",
              "    .dataframe tbody tr th {\n",
              "        vertical-align: top;\n",
              "    }\n",
              "\n",
              "    .dataframe thead th {\n",
              "        text-align: right;\n",
              "    }\n",
              "</style>\n",
              "<table border=\"1\" class=\"dataframe\">\n",
              "  <thead>\n",
              "    <tr style=\"text-align: right;\">\n",
              "      <th></th>\n",
              "      <th>scaled</th>\n",
              "      <th>raw</th>\n",
              "      <th>diff</th>\n",
              "    </tr>\n",
              "    <tr>\n",
              "      <th>K</th>\n",
              "      <th></th>\n",
              "      <th></th>\n",
              "      <th></th>\n",
              "    </tr>\n",
              "  </thead>\n",
              "  <tbody>\n",
              "    <tr>\n",
              "      <th>2</th>\n",
              "      <td>7.911213e+06</td>\n",
              "      <td>8.008896e+06</td>\n",
              "      <td>-97682.790762</td>\n",
              "    </tr>\n",
              "    <tr>\n",
              "      <th>3</th>\n",
              "      <td>7.790778e+06</td>\n",
              "      <td>7.896995e+06</td>\n",
              "      <td>-106216.983824</td>\n",
              "    </tr>\n",
              "    <tr>\n",
              "      <th>4</th>\n",
              "      <td>7.953732e+06</td>\n",
              "      <td>7.864658e+06</td>\n",
              "      <td>89073.997764</td>\n",
              "    </tr>\n",
              "    <tr>\n",
              "      <th>5</th>\n",
              "      <td>7.721215e+06</td>\n",
              "      <td>7.823535e+06</td>\n",
              "      <td>-102320.125156</td>\n",
              "    </tr>\n",
              "    <tr>\n",
              "      <th>6</th>\n",
              "      <td>7.826827e+06</td>\n",
              "      <td>7.826464e+06</td>\n",
              "      <td>363.714711</td>\n",
              "    </tr>\n",
              "    <tr>\n",
              "      <th>7</th>\n",
              "      <td>7.896686e+06</td>\n",
              "      <td>7.789046e+06</td>\n",
              "      <td>107640.022711</td>\n",
              "    </tr>\n",
              "    <tr>\n",
              "      <th>8</th>\n",
              "      <td>7.759017e+06</td>\n",
              "      <td>7.762648e+06</td>\n",
              "      <td>-3630.833439</td>\n",
              "    </tr>\n",
              "    <tr>\n",
              "      <th>9</th>\n",
              "      <td>7.826077e+06</td>\n",
              "      <td>7.719269e+06</td>\n",
              "      <td>106807.561547</td>\n",
              "    </tr>\n",
              "    <tr>\n",
              "      <th>10</th>\n",
              "      <td>7.848963e+06</td>\n",
              "      <td>7.733220e+06</td>\n",
              "      <td>115743.850579</td>\n",
              "    </tr>\n",
              "  </tbody>\n",
              "</table>\n",
              "</div>"
            ],
            "text/plain": [
              "          scaled           raw           diff\n",
              "K                                            \n",
              "2   7.911213e+06  8.008896e+06  -97682.790762\n",
              "3   7.790778e+06  7.896995e+06 -106216.983824\n",
              "4   7.953732e+06  7.864658e+06   89073.997764\n",
              "5   7.721215e+06  7.823535e+06 -102320.125156\n",
              "6   7.826827e+06  7.826464e+06     363.714711\n",
              "7   7.896686e+06  7.789046e+06  107640.022711\n",
              "8   7.759017e+06  7.762648e+06   -3630.833439\n",
              "9   7.826077e+06  7.719269e+06  106807.561547\n",
              "10  7.848963e+06  7.733220e+06  115743.850579"
            ]
          },
          "metadata": {
            "tags": []
          },
          "execution_count": 74
        }
      ]
    },
    {
      "cell_type": "markdown",
      "metadata": {
        "id": "2UH7XH5CK-QI",
        "colab_type": "text"
      },
      "source": [
        "## 지금까지 정리\n",
        "\n",
        "- 2016년~2017년 2년짜리 Back Testing\n",
        "- 6개월로 임베딩 및 Rescale Factor 산정하고, 이후 3개월 동안 매일매일 Top K개 주식 시가에 구매, 종가에 판매, 0.3% 수수료 포함\n",
        "- Corr 기준, Loss = |c*rho - 1|x||v_i - v_j||, K=8, 가장 좋은 성능"
      ]
    },
    {
      "cell_type": "code",
      "metadata": {
        "id": "hGOh4PKoK6u_",
        "colab_type": "code",
        "colab": {}
      },
      "source": [
        ""
      ],
      "execution_count": 74,
      "outputs": []
    },
    {
      "cell_type": "code",
      "metadata": {
        "id": "nfoYRO1oLopE",
        "colab_type": "code",
        "colab": {}
      },
      "source": [
        "def backtest(data=None, corr_df=None, start=None, end=None, window=65, embeddings=None, e=5, silent=False, k=8):\n",
        "\n",
        "    from collections import defaultdict\n",
        "\n",
        "    first_term = preprocessing(data=data,corr_df=corr_df, start=start, end=end+2*window)\n",
        "    train_df = first_term[first_term['date_index'].isin(list(range(start, end+1)))]\n",
        "    valid_df = first_term[first_term['date_index'].isin(list(range(end+1, end+window+1)))]\n",
        "    # test_df = raw_df[raw_df['date_index'].isin(list(range(end+window+1, end+2*window+1)))]\n",
        "    indicators=['EMA', 'MACD', 'KLength', 'KUpperLength', 'KLowerLength', 'ROC', 'BIAS']\n",
        "\n",
        "    result = defaultdict(list)\n",
        "\n",
        "    for indicator in indicators: # Out of 7 Indicators\n",
        "\n",
        "        j, s, = 0, 0 # To average the results\n",
        "        rescale_fc = rescale_factor(indicator=indicator, train_data=train_df, valid_data=valid_df, embeddings=embeddings, n_epochs=80, lr=0.05)\n",
        "\n",
        "        for _ in range(e): # Number of backtests to conduct, averaging out later\n",
        "\n",
        "            cap = 1e7 # Seed Capital\n",
        "            base_cap = 1e7\n",
        "            a,b = [1e7], [1e7] # Trajectory of capital possession\n",
        "\n",
        "            for day in range(end+window, end+2*window):\n",
        "\n",
        "                base_top10 = np.array(first_term[first_term['date_index']==day][indicator]).T.argsort()[-k:][::-1]\n",
        "                base_top10_close = first_term[first_term['date_index']==day+1].iloc[base_top10, :]['closing_price']\n",
        "                base_top10_open = first_term[first_term['date_index']==day+1].iloc[base_top10, :]['opening_price']\n",
        "                base_cap += ((base_top10_close*0.997 - base_top10_open)/base_top10_open*base_cap/k).sum()\n",
        "                a.append(base_cap)\n",
        "\n",
        "                    #Parallel Universe\n",
        "                temp = rescale_fc.detach().numpy() * np.array(first_term[first_term['date_index']==day][indicator]).T # elementwise\n",
        "                top10 = temp.squeeze().argsort()[-k:][::-1]\n",
        "                top10_close = first_term[first_term['date_index']==day+1].iloc[top10, :]['closing_price']\n",
        "                top10_open = first_term[first_term['date_index']==day+1].iloc[top10, :]['opening_price']\n",
        "                    # print((top10_close*0.997 - top10_open)/top10_open*0.1*cap)\n",
        "                cap += ((top10_close*0.997 - top10_open)/top10_open*cap/k).sum()\n",
        "                b.append(cap)\n",
        "\n",
        "            j += a[-1]\n",
        "            s += b[-1]\n",
        "        if not silent:\n",
        "            print(\"Top {0} 기준 Raw 수익과 Rescaled 수익은 각각 {2:.2f} // {3:.2f} ({1})\".format(k, indicator, j/e, s/e))\n",
        "\n",
        "        result['start'].append(start)\n",
        "        result['end'].append(end)\n",
        "        result['indicator'].append(indicator)\n",
        "        result['raw'].append(j/e)\n",
        "        result['scaled'].append(s/e)\n",
        "\n",
        "    return result"
      ],
      "execution_count": 75,
      "outputs": []
    },
    {
      "cell_type": "code",
      "metadata": {
        "id": "YoAlxH9uLomW",
        "colab_type": "code",
        "colab": {
          "base_uri": "https://localhost:8080/",
          "height": 161
        },
        "outputId": "178dc14e-1fff-4f7e-c2a3-860eca3836d1"
      },
      "source": [
        "backtest_output = pd.DataFrame(columns=['start', 'end', 'indicator', 'raw', 'scaled'])\n",
        "\n",
        "for n_ in range(1, 9):\n",
        "\n",
        "    df, embeddings, st, ed = data_preparer(n=n_, n_epochs=100, lr=0.05, silent=True, corr=True)\n",
        "    result_dict = backtest(data=data, corr_df=df, start=st, end=ed, window=62, embeddings=embeddings, e=15, silent=True, k=8)\n",
        "    backtest_output = pd.concat([backtest_output, pd.DataFrame(data=result_dict)])\n",
        "backtest_output"
      ],
      "execution_count": null,
      "outputs": [
        {
          "output_type": "stream",
          "text": [
            "/usr/local/lib/python3.6/dist-packages/IPython/core/interactiveshell.py:2822: DtypeWarning: Columns (0) have mixed types.Specify dtype option on import or set low_memory=False.\n",
            "  if self.run_code(code, result):\n",
            "/usr/local/lib/python3.6/dist-packages/IPython/core/interactiveshell.py:2822: DtypeWarning: Columns (0) have mixed types.Specify dtype option on import or set low_memory=False.\n",
            "  if self.run_code(code, result):\n",
            "/usr/local/lib/python3.6/dist-packages/IPython/core/interactiveshell.py:2822: DtypeWarning: Columns (0) have mixed types.Specify dtype option on import or set low_memory=False.\n",
            "  if self.run_code(code, result):\n",
            "/usr/local/lib/python3.6/dist-packages/IPython/core/interactiveshell.py:2822: DtypeWarning: Columns (0) have mixed types.Specify dtype option on import or set low_memory=False.\n",
            "  if self.run_code(code, result):\n"
          ],
          "name": "stderr"
        }
      ]
    },
    {
      "cell_type": "code",
      "metadata": {
        "id": "zuDUKUkZLokB",
        "colab_type": "code",
        "colab": {}
      },
      "source": [
        "backtest_output.to_csv('backtest_output.csv', index=False)"
      ],
      "execution_count": null,
      "outputs": []
    },
    {
      "cell_type": "code",
      "metadata": {
        "id": "VQUXzNAaK6tU",
        "colab_type": "code",
        "colab": {}
      },
      "source": [
        "backtest_output['raw'].mean(), backtest_output['scaled'].mean()"
      ],
      "execution_count": null,
      "outputs": []
    },
    {
      "cell_type": "code",
      "metadata": {
        "id": "UgbXlHjjK6p4",
        "colab_type": "code",
        "colab": {}
      },
      "source": [
        ""
      ],
      "execution_count": null,
      "outputs": []
    },
    {
      "cell_type": "code",
      "metadata": {
        "id": "UgG6cjTk15t7",
        "colab_type": "code",
        "colab": {}
      },
      "source": [
        ""
      ],
      "execution_count": null,
      "outputs": []
    }
  ]
}